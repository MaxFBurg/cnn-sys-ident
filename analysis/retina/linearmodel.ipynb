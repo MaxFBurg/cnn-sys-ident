{
 "cells": [
  {
   "cell_type": "code",
   "execution_count": null,
   "metadata": {},
   "outputs": [],
   "source": [
    "%load_ext autoreload\n",
    "%autoreload 2\n",
    "%matplotlib inline\n",
    "import tensorflow as tf, numpy as np, os, sys\n",
    "p = !pwd\n",
    "p = os.path.dirname(os.path.dirname(p[0]))\n",
    "if p not in sys.path:\n",
    "    sys.path.append(p)"
   ]
  },
  {
   "cell_type": "code",
   "execution_count": null,
   "metadata": {},
   "outputs": [],
   "source": [
    "from matplotlib import pyplot as plt\n",
    "%matplotlib inline"
   ]
  },
  {
   "cell_type": "code",
   "execution_count": null,
   "metadata": {},
   "outputs": [],
   "source": [
    "from cnn_sys_ident.architectures.models import BaseModel3D, CorePlusReadoutModel\n",
    "from cnn_sys_ident.architectures.cores import MultiScanCore, StackedFactorizedConv3dCore\n",
    "from cnn_sys_ident.architectures.readouts import MultiScanReadout, SpatialXFeature3dJointL1Readout\n",
    "from cnn_sys_ident.architectures.training import Trainer\n",
    "from cnn_sys_ident.retina.data import Dataset\n",
    "from cnn_sys_ident.retina.read_data import MultiDatasetWrapper\n",
    "from cnn_sys_ident.architectures.utils import mean_sq_err, poisson, crop_responses"
   ]
  },
  {
   "cell_type": "markdown",
   "metadata": {},
   "source": [
    "# Parameters"
   ]
  },
  {
   "cell_type": "code",
   "execution_count": null,
   "metadata": {},
   "outputs": [],
   "source": [
    "# Training\n",
    "VAL_STEPS = 10\n",
    "LEARNING_RATE = 0.001\n",
    "BATCH_SIZE = 32\n",
    "PATIENCE = 5\n",
    "LR_DECAY_STEPS = 3"
   ]
  },
  {
   "cell_type": "code",
   "execution_count": null,
   "metadata": {},
   "outputs": [],
   "source": [
    "def print_reg_loss(session, feed_dict):\n",
    "    def collect_loss(component_list, attribute):\n",
    "        loss = 0\n",
    "        for c in component_list:\n",
    "            loss += getattr(c, attribute)\n",
    "        return loss\n",
    "    smooth_reg = model.core.cores[0].reg_loss\n",
    "    mask_reg = collect_loss(model.readout.readouts, 'mask_reg')\n",
    "    feature_reg = collect_loss(model.readout.readouts, 'feature_reg')\n",
    "    smooth_reg, mask_reg, feature_reg, pred = session.run(\n",
    "        [smooth_reg, mask_reg, feature_reg, model.predictions], feed_dict)\n",
    "    print('Kernel smoothness: {} | Mask L1: {} | Feature weights L1: {} | Var[prediction]: {}'.format(\n",
    "        smooth_reg, mask_reg, feature_reg, pred.var()))"
   ]
  },
  {
   "cell_type": "code",
   "execution_count": null,
   "metadata": {},
   "outputs": [],
   "source": [
    "# neurons for evaluation:\n",
    "# 7,30,42,45 of 572 neurons with current filtering"
   ]
  },
  {
   "cell_type": "markdown",
   "metadata": {},
   "source": [
    "# Linear model processing movies"
   ]
  },
  {
   "cell_type": "code",
   "execution_count": null,
   "metadata": {},
   "outputs": [],
   "source": [
    "md_wrapper = MultiDatasetWrapper(experimenter=\"Franke\",\n",
    "                                 date=\"2018-10-19\",\n",
    "                                 exp_num=1,\n",
    "                                 stim_path='/gpfs01/berens/user/cbehrens/RGC_DNN/Stimuli/MouseCam2/')\n",
    "md_wrapper.generate_dataset(filter_traces=True,\n",
    "                            preproc_param_set_id = 1,\n",
    "                            quality_threshold_movie=0.4)\n",
    "data = md_wrapper.multi_dataset\n",
    "base = BaseModel3D(\n",
    "    data,\n",
    "    log_hash='testing'   # If you omit this, it will generate a new, random hash every time\n",
    ")\n",
    "core = MultiScanCore(\n",
    "    base,\n",
    "    base.data,\n",
    "    base.inputs,\n",
    "    core_type=StackedFactorizedConv3dCore,\n",
    "    filter_size_spatial=[15],   # probably too large -- otherwise downsample movies\n",
    "    filter_size_temporal=[20],\n",
    "    num_filters=[8],\n",
    "    activation_fn=['none'],\n",
    "    conv_smooth_weight_spatial=1,\n",
    "    conv_smooth_weight_temporal=1,\n",
    ")\n",
    "readout = MultiScanReadout(\n",
    "    base,\n",
    "    base.data,\n",
    "    core.output,\n",
    "    readout_type=SpatialXFeature3dJointL1Readout,\n",
    "    mask_sparsity=0.0005,     # TO DO: find good value\n",
    "    feature_sparsity=0.01, # TO DO: find good value #0.005\n",
    "    positive_feature_weights=False,\n",
    "    nonlinearity=False\n",
    ")\n",
    "model = CorePlusReadoutModel(base, core, readout)\n",
    "# model.load()\n",
    "trainer = Trainer(base, model, error_fn=mean_sq_err)\n",
    "iter_num, val_loss, test_corr = trainer.fit(\n",
    "    val_steps=10,\n",
    "    learning_rate=LEARNING_RATE,\n",
    "    batch_size=BATCH_SIZE,\n",
    "    patience=PATIENCE,\n",
    "    lr_decay_steps=LR_DECAY_STEPS,\n",
    "    callback=print_reg_loss)\n",
    "\n",
    "trainer.compute_test_corr()      #   (for training, see below)"
   ]
  },
  {
   "cell_type": "code",
   "execution_count": null,
   "metadata": {},
   "outputs": [],
   "source": [
    "# plot spatial kernels\n",
    "spatial_weights=model.base.evaluate(model.core.cores[0].weights_spatial)[0]\n",
    "fig, ax = plt.subplots(2,8,figsize=(20,10))\n",
    "ax=ax.flatten()\n",
    "for i in range(2):\n",
    "    for j in range(8):\n",
    "        ax[i+j*2].imshow(spatial_weights[0,:,:,i,j],vmin=np.min(spatial_weights),vmax=np.max(spatial_weights))\n",
    "# plt.savefig('../../../figures/spatial_kernels_8_filters_prepro1_08_08.png',dpi=300)"
   ]
  },
  {
   "cell_type": "code",
   "execution_count": null,
   "metadata": {},
   "outputs": [],
   "source": [
    "# plot temporal kernels\n",
    "temporal_weights=model.base.evaluate(model.core.cores[0].weights_temporal)[0]\n",
    "fig, ax = plt.subplots(2,8,figsize=(20,5),sharey=True)\n",
    "ax=ax.flatten()\n",
    "for i in range(2):\n",
    "    for j in range(8):\n",
    "        ax[i+j*2].plot(temporal_weights[:,0,0,i,j])\n",
    "# plt.savefig('../../../figures/temporal_kernels_8_filters_prepro1_08_08.png',dpi=300)"
   ]
  },
  {
   "cell_type": "code",
   "execution_count": null,
   "metadata": {},
   "outputs": [],
   "source": [
    "# plot masks for first scan\n",
    "masks=model.base.evaluate(model.readout.readouts[0].masks)\n",
    "fig, ax = plt.subplots(5,9,figsize=(20,20))\n",
    "for i in range(5):\n",
    "    for j in range(9):\n",
    "        ax[i,j].imshow(masks[j+9*i,:,:],vmin=np.min(masks),vmax=np.max(masks))\n",
    "# plt.savefig('../../../figures/masks_8_filters_prepro1_08_08.png',dpi=300)"
   ]
  },
  {
   "cell_type": "code",
   "execution_count": null,
   "metadata": {},
   "outputs": [],
   "source": [
    "# plot masks for first scan\n",
    "feature_weights=model.base.evaluate(model.readout.readouts[0].feature_weights)\n",
    "fig, ax = plt.subplots(5,9,figsize=(20,20),sharey=True)\n",
    "for i in range(5):\n",
    "    for j in range(9):\n",
    "        ax[i,j].plot(feature_weights[j+9*i,:])\n",
    "# plt.savefig('../../../figures/masks_8_filters_prepro1_08_08.png',dpi=300)"
   ]
  },
  {
   "cell_type": "code",
   "execution_count": null,
   "metadata": {},
   "outputs": [],
   "source": [
    "trainer.compute_val_var_expl()"
   ]
  },
  {
   "cell_type": "code",
   "execution_count": null,
   "metadata": {},
   "outputs": [],
   "source": [
    "trainer.compute_test_var_expl()"
   ]
  },
  {
   "cell_type": "code",
   "execution_count": null,
   "metadata": {},
   "outputs": [],
   "source": [
    "trainer.compute_test_corr()"
   ]
  },
  {
   "cell_type": "code",
   "execution_count": null,
   "metadata": {},
   "outputs": [],
   "source": [
    "trainer.compute_val_corr()"
   ]
  },
  {
   "cell_type": "code",
   "execution_count": null,
   "metadata": {},
   "outputs": [],
   "source": [
    "inputs, test_responses = data.test()      \n",
    "feed_dict = {model.base.inputs: inputs,\n",
    "                         model.base.responses: responses,\n",
    "                         model.base.is_training: False}\n",
    "test_predictions = model.base.evaluate(model.predictions, feed_dict)\n",
    "test_responses = crop_responses(test_predictions, test_responses)"
   ]
  },
  {
   "cell_type": "code",
   "execution_count": null,
   "metadata": {},
   "outputs": [],
   "source": [
    "i=7\n",
    "plt.plot(test_responses[0,:,i])\n",
    "plt.plot(test_predictions[0,:,i])"
   ]
  },
  {
   "cell_type": "code",
   "execution_count": null,
   "metadata": {},
   "outputs": [],
   "source": [
    "inputs, val_responses = data.val()      \n",
    "feed_dict = {model.base.inputs: inputs,\n",
    "                         model.base.responses: responses,\n",
    "                         model.base.is_training: False}\n",
    "val_predictions = model.base.evaluate(model.predictions, feed_dict)\n",
    "val_responses = crop_responses(val_predictions,val_responses)"
   ]
  },
  {
   "cell_type": "code",
   "execution_count": null,
   "metadata": {},
   "outputs": [],
   "source": [
    "fig, ax = plt.subplots(3,5,figsize=(20,10))\n",
    "ax=ax.flatten()\n",
    "for k in range(15):\n",
    "    ax[k].plot(val_responses[k,:,i])\n",
    "    ax[k].plot(val_predictions[k,:,i])"
   ]
  },
  {
   "cell_type": "code",
   "execution_count": null,
   "metadata": {},
   "outputs": [],
   "source": []
  }
 ],
 "metadata": {
  "kernelspec": {
   "display_name": "Python 3",
   "language": "python",
   "name": "python3"
  },
  "language_info": {
   "codemirror_mode": {
    "name": "ipython",
    "version": 3
   },
   "file_extension": ".py",
   "mimetype": "text/x-python",
   "name": "python",
   "nbconvert_exporter": "python",
   "pygments_lexer": "ipython3",
   "version": "3.6.7"
  },
  "varInspector": {
   "cols": {
    "lenName": 16,
    "lenType": 16,
    "lenVar": 40
   },
   "kernels_config": {
    "python": {
     "delete_cmd_postfix": "",
     "delete_cmd_prefix": "del ",
     "library": "var_list.py",
     "varRefreshCmd": "print(var_dic_list())"
    },
    "r": {
     "delete_cmd_postfix": ") ",
     "delete_cmd_prefix": "rm(",
     "library": "var_list.r",
     "varRefreshCmd": "cat(var_dic_list()) "
    }
   },
   "types_to_exclude": [
    "module",
    "function",
    "builtin_function_or_method",
    "instance",
    "_Feature"
   ],
   "window_display": false
  }
 },
 "nbformat": 4,
 "nbformat_minor": 2
}
