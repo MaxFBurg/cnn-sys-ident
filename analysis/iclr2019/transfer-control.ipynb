{
 "cells": [
  {
   "cell_type": "code",
   "execution_count": null,
   "metadata": {},
   "outputs": [],
   "source": [
    "%load_ext autoreload\n",
    "%autoreload 2\n",
    "%matplotlib inline\n",
    "import datajoint as dj\n",
    "import tensorflow as tf\n",
    "import numpy as np\n",
    "\n",
    "import seaborn as sns\n",
    "sns.set_style('ticks', rc={'image.cmap': 'bwr'})\n",
    "\n",
    "import os\n",
    "import sys\n",
    "import inspect\n",
    "import scipy\n",
    "\n",
    "p = !pwd\n",
    "p = os.path.dirname(os.path.dirname(p[0]))\n",
    "if p not in sys.path:\n",
    "    sys.path.append(p)"
   ]
  },
  {
   "cell_type": "code",
   "execution_count": null,
   "metadata": {},
   "outputs": [],
   "source": [
    "from cnn_sys_ident.mesonet.data import MultiDataset\n",
    "from cnn_sys_ident.mesonet.parameters import Core, Readout, Model, RegPath, Fit\n",
    "from cnn_sys_ident.mesonet import MODELS"
   ]
  },
  {
   "cell_type": "code",
   "execution_count": null,
   "metadata": {},
   "outputs": [],
   "source": [
    "data_key = dict(data_hash='cfcd208495d565ef66e7dff9f98764da')\n",
    "model_rel = MODELS['HermiteTransfer'] * MultiDataset() & data_key"
   ]
  },
  {
   "cell_type": "markdown",
   "metadata": {},
   "source": [
    "# Populate database"
   ]
  },
  {
   "cell_type": "code",
   "execution_count": null,
   "metadata": {},
   "outputs": [],
   "source": [
    "# Will run for a long time if executed from within the notebook on a single GPU\n",
    "# We distribute it among a GPU cluster\n",
    "#\n",
    "# Fit().populate(model_rel, reserve_jobs=True, suppress_errors=True, order='random')"
   ]
  },
  {
   "cell_type": "markdown",
   "metadata": {},
   "source": [
    "# Print results"
   ]
  },
  {
   "cell_type": "code",
   "execution_count": null,
   "metadata": {},
   "outputs": [],
   "source": [
    "k_transfer = 2\n",
    "keys = model_rel.fetch(dj.key)\n",
    "rel = Fit() * Readout.SpatialXFeatureJointL1Transfer() & keys & dict(k_transfer=k_transfer)\n",
    "test_corr, key = rel.fetch('test_corr', dj.key, order_by='val_loss', limit=1)\n",
    "key = key[0]\n",
    "print('Core trained on 1/{:d} of the neurons'.format(k_transfer))\n",
    "print('Average correlation of best model on test set: {:.3f}'.format(test_corr[0]))"
   ]
  },
  {
   "cell_type": "code",
   "execution_count": null,
   "metadata": {},
   "outputs": [],
   "source": [
    "model = Fit().load_model(key)\n",
    "num_neurons = model.base.data.num_neurons"
   ]
  },
  {
   "cell_type": "code",
   "execution_count": null,
   "metadata": {},
   "outputs": [],
   "source": [
    "data = model.base.data\n",
    "inputs, responses = data.test()\n",
    "feed_dict = {model.base.inputs: inputs, model.base.is_training: False}\n",
    "predictions = model.base.evaluate(model.predictions, feed_dict=feed_dict)\n",
    "\n",
    "idx_train = np.arange(0, num_neurons, k_transfer)\n",
    "idx_test = np.setdiff1d(np.arange(num_neurons), idx_train)\n",
    "\n",
    "rho_test = np.array([scipy.stats.pearsonr(p, r)[0] for p, r in zip(\n",
    "    predictions[:,idx_test].T, responses[:,idx_test].T)])\n",
    "rho_test[predictions[:,idx_test].std(axis=0) < 1e-4] = 0\n",
    "rho_train = np.array([scipy.stats.pearsonr(p, r)[0] for p, r in zip(\n",
    "    predictions[:,idx_train].T, responses[:,idx_train].T)])\n",
    "rho_train[predictions[:,idx_train].std(axis=0) < 1e-4] = 0\n",
    "print('Average correlation of neurons:\\n  - used to train core: {:.3f}\\n  - modeled via transfer learning: {:.3f}'.format(\n",
    "    rho_train[~np.isnan(rho_train)].mean(), rho_test[~np.isnan(rho_test)].mean()))"
   ]
  },
  {
   "cell_type": "code",
   "execution_count": null,
   "metadata": {},
   "outputs": [],
   "source": []
  }
 ],
 "metadata": {
  "kernelspec": {
   "display_name": "Python 3",
   "language": "python",
   "name": "python3"
  },
  "language_info": {
   "codemirror_mode": {
    "name": "ipython",
    "version": 3
   },
   "file_extension": ".py",
   "mimetype": "text/x-python",
   "name": "python",
   "nbconvert_exporter": "python",
   "pygments_lexer": "ipython3",
   "version": "3.6.3"
  }
 },
 "nbformat": 4,
 "nbformat_minor": 2
}
