{
 "cells": [
  {
   "cell_type": "code",
   "execution_count": 1,
   "metadata": {},
   "outputs": [
    {
     "name": "stderr",
     "output_type": "stream",
     "text": [
      "/usr/local/lib/python3.5/dist-packages/h5py/__init__.py:36: FutureWarning: Conversion of the second argument of issubdtype from `float` to `np.floating` is deprecated. In future, it will be treated as `np.float64 == np.dtype(float).type`.\n",
      "  from ._conv import register_converters as _register_converters\n"
     ]
    }
   ],
   "source": [
    "%load_ext autoreload\n",
    "%autoreload 2\n",
    "%matplotlib inline\n",
    "\n",
    "import datajoint as dj\n",
    "import tensorflow as tf\n",
    "import matplotlib.pyplot as plt\n",
    "import numpy as np\n",
    "\n",
    "import seaborn as sns\n",
    "sns.set_style('ticks', rc={'image.cmap': 'bwr'})\n",
    "\n",
    "import os\n",
    "import sys\n",
    "import inspect\n",
    "\n",
    "p = !pwd\n",
    "p = os.path.dirname(os.path.dirname(p[0]))\n",
    "if p not in sys.path:\n",
    "    sys.path.append(p)"
   ]
  },
  {
   "cell_type": "code",
   "execution_count": 2,
   "metadata": {},
   "outputs": [
    {
     "name": "stdout",
     "output_type": "stream",
     "text": [
      "Connecting aecker@52.202.15.166:3306\n"
     ]
    }
   ],
   "source": [
    "from cnn_sys_ident.mesonet.data import MultiDataset\n",
    "from cnn_sys_ident.mesonet.parameters import Core, Readout, Model, RegPath, Fit\n",
    "from cnn_sys_ident.mesonet import MODELS\n",
    "from cnn_sys_ident.mesonet.controls import FitTrialSubset"
   ]
  },
  {
   "cell_type": "code",
   "execution_count": 20,
   "metadata": {},
   "outputs": [
    {
     "data": {
      "image/png": "[encoded data removed]",
      "text/plain": [
       "<matplotlib.figure.Figure at 0x7f37af9a7fd0>"
      ]
     },
     "metadata": {},
     "output_type": "display_data"
    }
   ],
   "source": [
    "plt.figure(figsize=(2.5, 2.5))\n",
    "\n",
    "frac_trials = np.array([0.125, 0.25, 0.5, 1])\n",
    "for model in [MODELS['CNNSparse'], MODELS['HermiteSparse']]:\n",
    "    test_corr = []\n",
    "    for t in frac_trials + 0.01:\n",
    "        rel = (FitTrialSubset() * model & 'frac_trials < {}'.format(t))\n",
    "        test_corr.append(rel.fetch('test_corr', order_by='val_loss', limit=1)[0])\n",
    "\n",
    "    plt.semilogx(100 * frac_trials, test_corr, 'o-')\n",
    "    \n",
    "plt.legend(['CNN', 'RotEqui'])\n",
    "plt.xlabel('% of trials')\n",
    "plt.ylabel('Correlation')\n",
    "plt.tight_layout()\n",
    "plt.xlim([10, 110])\n",
    "plt.ylim([0, 0.5])\n",
    "plt.xticks(frac_trials * 100)\n",
    "sns.despine(trim=True, offset=5)\n",
    "plt.savefig('figures/frac_trials.eps', format='eps')"
   ]
  },
  {
   "cell_type": "code",
   "execution_count": null,
   "metadata": {},
   "outputs": [],
   "source": []
  }
 ],
 "metadata": {
  "kernelspec": {
   "display_name": "Python 3",
   "language": "python",
   "name": "python3"
  },
  "language_info": {
   "codemirror_mode": {
    "name": "ipython",
    "version": 3
   },
   "file_extension": ".py",
   "mimetype": "text/x-python",
   "name": "python",
   "nbconvert_exporter": "python",
   "pygments_lexer": "ipython3",
   "version": "3.5.2"
  }
 },
 "nbformat": 4,
 "nbformat_minor": 2
}
