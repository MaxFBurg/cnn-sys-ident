{
 "cells": [
  {
   "cell_type": "code",
   "execution_count": null,
   "metadata": {},
   "outputs": [],
   "source": [
    "%load_ext autoreload\n",
    "%autoreload 2\n",
    "%matplotlib inline\n",
    "\n",
    "import datajoint as dj\n",
    "import tensorflow as tf\n",
    "import matplotlib.pyplot as plt\n",
    "import numpy as np\n",
    "\n",
    "import seaborn as sns\n",
    "sns.set_style('ticks', rc={'image.cmap': 'bwr'})\n",
    "\n",
    "import os\n",
    "import sys\n",
    "import inspect\n",
    "\n",
    "p = !pwd\n",
    "p = os.path.dirname(os.path.dirname(p[0]))\n",
    "if p not in sys.path:\n",
    "    sys.path.append(p)"
   ]
  },
  {
   "cell_type": "code",
   "execution_count": null,
   "metadata": {},
   "outputs": [],
   "source": [
    "from cnn_sys_ident.mesonet.data import MultiDataset\n",
    "from cnn_sys_ident.mesonet.parameters import Core, Readout, Model, RegPath, Fit\n",
    "from cnn_sys_ident.mesonet import MODELS\n",
    "from cnn_sys_ident.mesonet.controls import FitTrialSubset"
   ]
  },
  {
   "cell_type": "code",
   "execution_count": null,
   "metadata": {},
   "outputs": [],
   "source": [
    "data_key = dict(data_hash='cfcd208495d565ef66e7dff9f98764da')\n",
    "data = (MultiDataset() & data_key).load_data()"
   ]
  },
  {
   "cell_type": "code",
   "execution_count": null,
   "metadata": {},
   "outputs": [],
   "source": [
    "_, responses_test_raw = data.test(averages=False)\n",
    "reps, num_imgs, num_neurons = responses_test_raw.shape"
   ]
  },
  {
   "cell_type": "code",
   "execution_count": null,
   "metadata": {},
   "outputs": [],
   "source": [
    "obs_var = (responses_test_raw.var(axis=0, ddof=1) / reps).mean(axis=0)\n",
    "total_var = responses_test_raw.mean(axis=0).var(axis=0, ddof=1)\n",
    "explainable_var = total_var - obs_var\n",
    "frac_explainable_var = explainable_var / total_var\n",
    "frac_explainable_var[frac_explainable_var < 0] = 0\n",
    "\n",
    "obs_var_raw = (responses_test_raw.var(axis=0, ddof=1)).mean(axis=0)\n",
    "total_var_raw = responses_test_raw.reshape([-1, num_neurons]).var(axis=0, ddof=1)"
   ]
  },
  {
   "cell_type": "code",
   "execution_count": null,
   "metadata": {},
   "outputs": [],
   "source": [
    "plt.figure(figsize=(3, 2))\n",
    "sns.distplot(frac_explainable_var, kde=False)\n",
    "plt.xlabel('Fraction of explainable variance')\n",
    "plt.ylabel('Number of neurons')\n",
    "plt.xlim([0, 1])\n",
    "sns.despine(trim=True, offset=5)\n",
    "\n",
    "plt.figure(figsize=(3, 2))\n",
    "sns.distplot(np.sqrt(frac_explainable_var), kde=False)\n",
    "plt.xlabel('Maximal correlation')\n",
    "plt.ylabel('Number of neurons')\n",
    "plt.xlim([0, 1])\n",
    "sns.despine(trim=True, offset=5)"
   ]
  },
  {
   "cell_type": "code",
   "execution_count": null,
   "metadata": {},
   "outputs": [],
   "source": [
    "print('Best possible average correlation: {:.2f}'.format(\n",
    "    np.sqrt(frac_explainable_var).mean()))"
   ]
  },
  {
   "cell_type": "code",
   "execution_count": null,
   "metadata": {},
   "outputs": [],
   "source": []
  }
 ],
 "metadata": {
  "kernelspec": {
   "display_name": "Python 3",
   "language": "python",
   "name": "python3"
  },
  "language_info": {
   "codemirror_mode": {
    "name": "ipython",
    "version": 3
   },
   "file_extension": ".py",
   "mimetype": "text/x-python",
   "name": "python",
   "nbconvert_exporter": "python",
   "pygments_lexer": "ipython3",
   "version": "3.5.2"
  }
 },
 "nbformat": 4,
 "nbformat_minor": 2
}
