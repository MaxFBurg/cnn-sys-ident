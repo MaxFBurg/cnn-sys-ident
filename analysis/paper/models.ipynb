{
 "cells": [
  {
   "cell_type": "markdown",
   "metadata": {},
   "source": [
    "# Models for ICLR 2019 paper\n",
    "\n",
    "### A rotation-equivariant convolutional neural network model of primary visual cortex\n",
    "*Alexander S. Ecker, Fabian H. Sinz, Emmanouil Froudarakis, Paul G. Fahey, Santiago A. Cadena, Edgar Y. Walker, Erick Cobos, Jacob Reimer, Andreas S. Tolias, Matthias Bethge*\n",
    "\n",
    "https://openreview.net/forum?id=H1fU8iAqKX"
   ]
  },
  {
   "cell_type": "code",
   "execution_count": null,
   "metadata": {},
   "outputs": [],
   "source": [
    "%load_ext autoreload\n",
    "%autoreload 2\n",
    "%matplotlib inline\n",
    "import tensorflow as tf, numpy as np, os, sys\n",
    "p = !pwd\n",
    "p = os.path.dirname(os.path.dirname(p[0]))\n",
    "if p not in sys.path:\n",
    "    sys.path.append(p)"
   ]
  },
  {
   "cell_type": "code",
   "execution_count": null,
   "metadata": {},
   "outputs": [],
   "source": [
    "# TO DO: remove dependency on database to load data\n",
    "from cnn_sys_ident.mesonet.data import MultiDataset\n",
    "data_key = dict(data_hash='cfcd208495d565ef66e7dff9f98764da')\n",
    "data = (MultiDataset() & data_key).load_data()"
   ]
  },
  {
   "cell_type": "code",
   "execution_count": null,
   "metadata": {},
   "outputs": [],
   "source": [
    "from cnn_sys_ident.architectures.models import BaseModel, CorePlusReadoutModel\n",
    "from cnn_sys_ident.architectures.training import Trainer"
   ]
  },
  {
   "cell_type": "code",
   "execution_count": null,
   "metadata": {},
   "outputs": [],
   "source": []
  },
  {
   "cell_type": "code",
   "execution_count": null,
   "metadata": {},
   "outputs": [],
   "source": []
  },
  {
   "cell_type": "code",
   "execution_count": null,
   "metadata": {},
   "outputs": [],
   "source": []
  },
  {
   "cell_type": "markdown",
   "metadata": {},
   "source": [
    "## Control: Feature space generalizes to unseen neurons\n",
    "\n",
    "To show that our network learns common features of V1 neurons, we excluded half of the neurons when fitting the network. We then fixed the rotation-equivariant convolutional core and trained only the readout (spatial mask and feature weights) for the other half of the neurons. \n",
    "\n",
    "In terms of implementation, we insert a stop_gradient between the convolutional core and the readout for half of the neurons, which is done in the class for the readout (`SpatialXFeatureJointL1TransferReadout`)."
   ]
  },
  {
   "cell_type": "code",
   "execution_count": null,
   "metadata": {},
   "outputs": [],
   "source": [
    "from cnn_sys_ident.architectures.cores import StackedRotEquiHermiteConv2dCore\n",
    "from cnn_sys_ident.architectures.readouts import SpatialXFeatureJointL1TransferReadout"
   ]
  },
  {
   "cell_type": "code",
   "execution_count": null,
   "metadata": {},
   "outputs": [],
   "source": [
    "base = BaseModel(\n",
    "    data,\n",
    "    log_dir='iclr2019-checkpoints-repro',\n",
    "    log_hash='b8f78ead705cb02d09c01f9701067ba2'\n",
    ")\n",
    "core = StackedRotEquiHermiteConv2dCore(\n",
    "    base,\n",
    "    base.inputs,\n",
    "    num_rotations=8,\n",
    "    upsampling=2,\n",
    "    shared_biases=False,\n",
    "    filter_size=[13, 5, 5],\n",
    "    num_filters=[16, 16, 16],\n",
    "    stride=[1, 1, 1],\n",
    "    rate=[1, 1, 1],\n",
    "    padding=['SAME', 'SAME', 'SAME'],\n",
    "    activation_fn=['soft', 'soft', 'none'],\n",
    "    rel_smooth_weight=[1, 0.5, 0.5],\n",
    "    rel_sparse_weight=[0, 1, 1],\n",
    "    conv_smooth_weight=0.0112711,\n",
    "    conv_sparse_weight=0.0492937,\n",
    ")\n",
    "readout = SpatialXFeatureJointL1TransferReadout(\n",
    "    base,\n",
    "    core.output,\n",
    "    k_transfer=2,\n",
    "    positive_feature_weights=False,\n",
    "    readout_sparsity=0.020616,\n",
    "    init_masks='rand',\n",
    ")\n",
    "model = CorePlusReadoutModel(base, core, readout)\n",
    "trainer = Trainer(base, model)"
   ]
  },
  {
   "cell_type": "code",
   "execution_count": null,
   "metadata": {},
   "outputs": [],
   "source": [
    "iter_num, val_loss, test_corr = trainer.fit(\n",
    "    val_steps=50, learning_rate=0.002, batch_size=256, patience=5)"
   ]
  },
  {
   "cell_type": "code",
   "execution_count": null,
   "metadata": {},
   "outputs": [],
   "source": [
    "trainer.compute_test_corr()"
   ]
  },
  {
   "cell_type": "code",
   "execution_count": null,
   "metadata": {},
   "outputs": [],
   "source": []
  }
 ],
 "metadata": {
  "kernelspec": {
   "display_name": "Python 3",
   "language": "python",
   "name": "python3"
  },
  "language_info": {
   "codemirror_mode": {
    "name": "ipython",
    "version": 3
   },
   "file_extension": ".py",
   "mimetype": "text/x-python",
   "name": "python",
   "nbconvert_exporter": "python",
   "pygments_lexer": "ipython3",
   "version": "3.6.3"
  }
 },
 "nbformat": 4,
 "nbformat_minor": 2
}
