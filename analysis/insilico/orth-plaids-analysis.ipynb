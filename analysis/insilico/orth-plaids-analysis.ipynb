{
 "cells": [
  {
   "cell_type": "code",
   "execution_count": null,
   "metadata": {},
   "outputs": [],
   "source": [
    "%load_ext autoreload\n",
    "%autoreload 2\n",
    "%matplotlib inline\n",
    "\n",
    "import datajoint as dj\n",
    "import tensorflow as tf\n",
    "import matplotlib.pyplot as plt\n",
    "import numpy as np\n",
    "\n",
    "import seaborn as sns\n",
    "sns.set_style('ticks', rc={'image.cmap': 'bwr'})\n",
    "\n",
    "import os\n",
    "import sys\n",
    "import inspect\n",
    "\n",
    "p = !pwd\n",
    "p = os.path.dirname(os.path.dirname(p[0]))\n",
    "if p not in sys.path:\n",
    "    sys.path.append(p)"
   ]
  },
  {
   "cell_type": "code",
   "execution_count": null,
   "metadata": {},
   "outputs": [],
   "source": [
    "from cnn_sys_ident.mesonet.data import MultiDataset\n",
    "from cnn_sys_ident.mesonet.parameters import Core, Readout, Model, RegPath, Fit\n",
    "from cnn_sys_ident.mesonet import MODELS\n",
    "from cnn_sys_ident.mesonet.insilico import OptimalGabor, OrthPlaidsContrast, \\\n",
    "    OrthPlaidsContrastParams\n",
    "from cnn_sys_ident.architectures.training import Trainer"
   ]
  },
  {
   "cell_type": "code",
   "execution_count": null,
   "metadata": {},
   "outputs": [],
   "source": [
    "data_key = {'data_hash': 'cfcd208495d565ef66e7dff9f98764da'}\n",
    "dataset = MultiDataset() & data_key"
   ]
  },
  {
   "cell_type": "markdown",
   "metadata": {},
   "source": [
    "# Load a model"
   ]
  },
  {
   "cell_type": "code",
   "execution_count": null,
   "metadata": {},
   "outputs": [],
   "source": [
    "num_filters = 16\n",
    "model_rel = MODELS['HermiteSparse'] * dataset \\\n",
    "    & 'positive_feature_weights=False AND shared_biases=False' \\\n",
    "    & {'num_filters_2': num_filters}\n",
    "key = (Fit() * model_rel).fetch(dj.key, order_by='val_loss', limit=1)[0]\n",
    "num_rotations = (model_rel & key).fetch1('num_rotations')\n",
    "model = Fit().load_model(key)"
   ]
  },
  {
   "cell_type": "code",
   "execution_count": null,
   "metadata": {},
   "outputs": [],
   "source": [
    "masks = model.base.evaluate(model.readout.masks)\n",
    "w = model.base.evaluate(model.readout.feature_weights)\n",
    "w_norm = w / np.sqrt(np.sum(w ** 2, axis=1, keepdims=True))\n",
    "w_marg = w_norm.reshape([-1, num_rotations, num_filters])\n",
    "w_marg = np.sum(w_marg ** 2, axis=1)\n",
    "\n",
    "print(masks.shape)\n",
    "print(w.shape)\n",
    "print(w_marg.shape)"
   ]
  },
  {
   "cell_type": "code",
   "execution_count": null,
   "metadata": {},
   "outputs": [],
   "source": [
    "trainer = Trainer(model.base, model)\n",
    "r = trainer.compute_val_corr()\n",
    "print(r.mean())"
   ]
  },
  {
   "cell_type": "markdown",
   "metadata": {},
   "source": [
    "### Show plaids"
   ]
  },
  {
   "cell_type": "code",
   "execution_count": null,
   "metadata": {},
   "outputs": [],
   "source": [
    "s = model.base.inputs.shape.as_list()\n",
    "canvas_size = [s[2], s[1]]\n",
    "example_key = OptimalGabor.Unit().fetch(dj.key)[3]\n",
    "loc, sz, sf, _, ori, ph = OptimalGabor.Unit().params(example_key)\n",
    "g_pref = OrthPlaidsContrastParams().gabor_set(key, canvas_size, loc, sz, sf, ori, ph)\n",
    "g_orth = OrthPlaidsContrastParams().gabor_set(key, canvas_size, loc, sz, sf, ori + np.pi/2, ph)\n",
    "comps_pref = g_pref.images()\n",
    "comps_orth = g_orth.images()\n",
    "plaids = comps_pref[None,...] + comps_orth[:,None,...]"
   ]
  },
  {
   "cell_type": "code",
   "execution_count": null,
   "metadata": {},
   "outputs": [],
   "source": [
    "fig, axes = plt.subplots(plaids.shape[0], plaids.shape[1], figsize=(20, 20))\n",
    "for ax, pl in zip(axes, plaids):\n",
    "    for a, p in zip(ax, pl):\n",
    "        a.imshow(p[:30,30:60], cmap='gray', vmin=-2, vmax=2)\n",
    "        a.axis('off')"
   ]
  },
  {
   "cell_type": "markdown",
   "metadata": {},
   "source": [
    "### Plot tuning curves"
   ]
  },
  {
   "cell_type": "code",
   "execution_count": null,
   "metadata": {},
   "outputs": [],
   "source": [
    "tc = OrthPlaidsContrast.Unit().fetch('tuning_curve', order_by='unit_id')\n",
    "tc = np.array([t for t in tc])\n",
    "\n",
    "contrasts = OrthPlaidsContrastParams().contrasts(key)"
   ]
  },
  {
   "cell_type": "code",
   "execution_count": null,
   "metadata": {},
   "outputs": [],
   "source": [
    "contrast_idx = np.concatenate([np.zeros(1), np.arange(1, 10)]).astype(np.uint32)\n",
    "contrast_idx = np.arange(10)\n",
    "colors = plt.cm.gist_earth(np.linspace(0, 1, b-a))\n",
    "colors = np.flipud(colors)\n",
    "\n",
    "min_corr = 0.1\n",
    "n = [4, 4]\n",
    "type_id = np.argmax(np.abs(w_marg), axis=1)\n",
    "unit_ids = []\n",
    "for i in range(num_filters):\n",
    "    idx, = np.where((type_id == i) & (r > min_corr))\n",
    "    order = np.argsort(-w_marg[idx,i])\n",
    "    fig, axes = plt.subplots(n[0], n[1], figsize=(n[1], n[0]))\n",
    "    for t, ax in zip(tc[idx[order]], axes.flatten()):\n",
    "        ax.imshow(t, vmin=0, vmax=1.1*t.max(), extent=[0, 1, 1, 0])\n",
    "        ax.axis('off')\n",
    "    ax.axis('on')\n",
    "    ax.yaxis.tick_right()\n",
    "    ax.set_yticks([0, 1])\n",
    "    fig.suptitle('Group {:d}'.format(i+1))\n",
    "    fig.savefig('figures/orth_plaids_{:d}.eps'.format(i+1), format='eps')"
   ]
  },
  {
   "cell_type": "code",
   "execution_count": null,
   "metadata": {},
   "outputs": [],
   "source": []
  }
 ],
 "metadata": {
  "kernelspec": {
   "display_name": "Python 3",
   "language": "python",
   "name": "python3"
  },
  "language_info": {
   "codemirror_mode": {
    "name": "ipython",
    "version": 3
   },
   "file_extension": ".py",
   "mimetype": "text/x-python",
   "name": "python",
   "nbconvert_exporter": "python",
   "pygments_lexer": "ipython3",
   "version": "3.5.2"
  }
 },
 "nbformat": 4,
 "nbformat_minor": 2
}
