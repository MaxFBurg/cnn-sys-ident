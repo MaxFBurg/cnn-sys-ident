{
 "cells": [
  {
   "cell_type": "code",
   "execution_count": null,
   "metadata": {},
   "outputs": [],
   "source": [
    "%load_ext autoreload\n",
    "%autoreload 2\n",
    "%matplotlib inline\n",
    "\n",
    "import datajoint as dj\n",
    "import matplotlib.pyplot as plt\n",
    "import numpy as np\n",
    "import seaborn as sns\n",
    "sns.set_style('ticks', rc={'image.cmap': 'bwr'})\n",
    "\n",
    "import os\n",
    "import sys\n",
    "import inspect\n",
    "\n",
    "p = !pwd\n",
    "p = os.path.dirname(os.path.dirname(p[0]))\n",
    "if p not in sys.path:\n",
    "    sys.path.append(p)"
   ]
  },
  {
   "cell_type": "code",
   "execution_count": null,
   "metadata": {},
   "outputs": [],
   "source": [
    "from cnn_sys_ident.mesonet import MODELS\n",
    "from cnn_sys_ident.mesonet.controls import FitTrialSubset"
   ]
  },
  {
   "cell_type": "code",
   "execution_count": null,
   "metadata": {},
   "outputs": [],
   "source": [
    "plt.figure(figsize=(2.5, 2.5))\n",
    "\n",
    "frac_trials = np.array([0.125, 0.25, 0.5, 1])\n",
    "for model in [MODELS['CNNSparse'], MODELS['HermiteSparse']]:\n",
    "    test_corr = []\n",
    "    for t in frac_trials + 0.01:\n",
    "        rel = (FitTrialSubset() * model & 'frac_trials < {}'.format(t))\n",
    "        test_corr.append(rel.fetch('test_corr', order_by='val_loss', limit=1)[0])\n",
    "\n",
    "    plt.semilogx(100 * frac_trials, test_corr, 'o-')\n",
    "    \n",
    "plt.legend(['CNN', 'RotEqui'])\n",
    "plt.xlabel('% of trials')\n",
    "plt.ylabel('Correlation')\n",
    "plt.tight_layout()\n",
    "plt.xlim([10, 110])\n",
    "plt.ylim([0, 0.5])\n",
    "sns.despine(trim=True, offset=5)\n",
    "plt.xticks(frac_trials * 100)\n",
    "plt.gca().set_xticklabels(\n",
    "    [t if t < 20 else np.round(t).astype(np.int32) for t in frac_trials*100])\n",
    "plt.minorticks_off()\n",
    "plt.savefig('figures/frac_trials.eps', format='eps')"
   ]
  }
 ],
 "metadata": {
  "kernelspec": {
   "display_name": "Python 3",
   "language": "python",
   "name": "python3"
  },
  "language_info": {
   "codemirror_mode": {
    "name": "ipython",
    "version": 3
   },
   "file_extension": ".py",
   "mimetype": "text/x-python",
   "name": "python",
   "nbconvert_exporter": "python",
   "pygments_lexer": "ipython3",
   "version": "3.6.3"
  }
 },
 "nbformat": 4,
 "nbformat_minor": 2
}
