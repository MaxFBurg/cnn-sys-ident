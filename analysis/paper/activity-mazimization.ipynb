{
 "cells": [
  {
   "cell_type": "code",
   "execution_count": null,
   "metadata": {},
   "outputs": [],
   "source": [
    "%load_ext autoreload\n",
    "%autoreload 2\n",
    "%matplotlib inline\n",
    "\n",
    "import datajoint as dj\n",
    "import tensorflow as tf\n",
    "import matplotlib.pyplot as plt\n",
    "import numpy as np\n",
    "\n",
    "import seaborn as sns\n",
    "sns.set_style('ticks', rc={'image.cmap': 'bwr'})\n",
    "\n",
    "import os\n",
    "import sys\n",
    "import inspect\n",
    "\n",
    "p = !pwd\n",
    "p = os.path.dirname(os.path.dirname(p[0]))\n",
    "if p not in sys.path:\n",
    "    sys.path.append(p)"
   ]
  },
  {
   "cell_type": "code",
   "execution_count": null,
   "metadata": {},
   "outputs": [],
   "source": [
    "from cnn_sys_ident.mesonet.data import MultiDataset\n",
    "from cnn_sys_ident.mesonet.vis import MEIParams, MEIGroup, MEI\n",
    "from cnn_sys_ident.mesonet.parameters import Core, Readout, Model, RegPath, Fit\n",
    "from cnn_sys_ident.architectures.training import Trainer\n",
    "from cnn_sys_ident.mesonet import MODELS\n",
    "from cnn_sys_ident.utils.mei import ActivityMaximization"
   ]
  },
  {
   "cell_type": "code",
   "execution_count": null,
   "metadata": {},
   "outputs": [],
   "source": [
    "data_key = {'data_hash': 'cfcd208495d565ef66e7dff9f98764da'}\n",
    "dataset = MultiDataset() & data_key"
   ]
  },
  {
   "cell_type": "markdown",
   "metadata": {},
   "source": [
    "# Visualize MEIs for different cell types"
   ]
  },
  {
   "cell_type": "code",
   "execution_count": null,
   "metadata": {},
   "outputs": [],
   "source": [
    "num_filters = 16\n",
    "model_rel = MODELS['HermiteSparse'] * dataset \\\n",
    "    & 'positive_feature_weights=False AND shared_biases=False' \\\n",
    "    & {'num_filters_2': num_filters}\n",
    "model_key = (Fit() * model_rel).fetch(dj.key, order_by='val_loss', limit=1)[0]\n",
    "num_rotations = (model_rel & model_key).fetch1('num_rotations')\n",
    "model = Fit().load_model(model_key)"
   ]
  },
  {
   "cell_type": "code",
   "execution_count": null,
   "metadata": {},
   "outputs": [],
   "source": [
    "masks = model.base.evaluate(model.readout.masks)\n",
    "w = model.base.evaluate(model.readout.feature_weights)\n",
    "w_norm = w / np.sqrt(np.sum(w ** 2, axis=1, keepdims=True))\n",
    "w_marg = w_norm.reshape([-1, num_rotations, num_filters])\n",
    "w_marg = np.sum(w_marg ** 2, axis=1)\n",
    "\n",
    "print(masks.shape)\n",
    "print(w.shape)\n",
    "print(w_marg.shape)"
   ]
  },
  {
   "cell_type": "code",
   "execution_count": null,
   "metadata": {},
   "outputs": [],
   "source": [
    "trainer = Trainer(model.base, model)\n",
    "r = trainer.compute_val_corr()\n",
    "print(r.mean())"
   ]
  },
  {
   "cell_type": "code",
   "execution_count": null,
   "metadata": {},
   "outputs": [],
   "source": [
    "min_corr = 0.2\n",
    "k = 15   # x2\n",
    "n_x = masks.shape[2] + 2*k\n",
    "n = [4, 4]\n",
    "type_id = np.argmax(np.abs(w_marg), axis=1)\n",
    "unit_ids = []\n",
    "for i in range(num_filters):\n",
    "    idx, = np.where((type_id == i) & (r > min_corr))\n",
    "    order = np.argsort(-w_marg[idx,i])\n",
    "    fig, axes = plt.subplots(n[0], n[1], figsize=(n[1], n[0]))\n",
    "    unit_ids.append(idx[order[:n[0]*n[1]]])\n",
    "    for unit_id, ax in zip(idx[order], axes.flatten()):\n",
    "        key = {'unit_id': unit_id, 'param_id': 1}\n",
    "        rel = MEI() & key & model_key\n",
    "        if len(rel):\n",
    "            img = rel.fetch1('max_image')\n",
    "            img = np.pad(img, k, 'constant')\n",
    "            m = np.abs(img).max() + 1e-3\n",
    "            mask = np.pad(masks[unit_id], k, 'constant')\n",
    "            rf_idx = mask.argmax()\n",
    "            rf_i, rf_j = rf_idx // n_x, rf_idx % n_x\n",
    "            img  = img[rf_i-k:rf_i+k,rf_j-k:rf_j+k]\n",
    "            ax.imshow(img, vmin=-m, vmax=m)\n",
    "        ax.axis('off')\n",
    "#     fig.savefig('figures/meis_4x4{:d}.eps'.format(i+1), format='eps')\n",
    "unit_ids = np.array(unit_ids)\n",
    "np.save('figures/unit_ids', unit_ids)"
   ]
  },
  {
   "cell_type": "code",
   "execution_count": null,
   "metadata": {},
   "outputs": [],
   "source": [
    "min_corr = 0.2\n",
    "k = 15   # x2\n",
    "n_x = masks.shape[2] + 2*k\n",
    "n = 10\n",
    "type_id = np.argmax(np.abs(w_marg), axis=1)\n",
    "fig, axes = plt.subplots(num_filters // 2, 2, figsize=(5, 2.5))\n",
    "for i, ax in enumerate(axes.flatten()):\n",
    "    idx, = np.where((type_id == i) & (r > min_corr))\n",
    "    order = np.argsort(-w_marg[idx,i])\n",
    "    imgs = []\n",
    "    for unit_id in idx[order[:10]]:\n",
    "        key = {'unit_id': unit_id, 'param_id': 1}\n",
    "        rel = MEI() & key\n",
    "        if len(rel):\n",
    "            img = rel.fetch1('max_image')\n",
    "            img = np.pad(img, k, 'constant')\n",
    "            m = np.abs(img).max() + 1e-3\n",
    "            mask = np.pad(masks[unit_id], k, 'constant')\n",
    "            rf_idx = mask.argmax()\n",
    "            rf_i, rf_j = rf_idx // n_x, rf_idx % n_x\n",
    "            img  = img[rf_i-k:rf_i+k,rf_j-k:rf_j+k]\n",
    "            imgs.append(img)\n",
    "        \n",
    "    img = np.concatenate(imgs, axis=1)\n",
    "    ax.imshow(img, vmin=-m, vmax=m)\n",
    "    ax.axis('off')\n",
    "\n",
    "fig.savefig('figures/meis.eps', format='eps')"
   ]
  },
  {
   "cell_type": "markdown",
   "metadata": {},
   "source": [
    "# Single-step gradient RFs"
   ]
  },
  {
   "cell_type": "code",
   "execution_count": null,
   "metadata": {},
   "outputs": [],
   "source": [
    "from cnn_sys_ident.utils.mei import GradientRF"
   ]
  },
  {
   "cell_type": "code",
   "execution_count": null,
   "metadata": {},
   "outputs": [],
   "source": [
    "num_filters = 16\n",
    "model_rel = MODELS['HermiteSparse'] * dataset \\\n",
    "    & 'positive_feature_weights=False AND shared_biases=False' \\\n",
    "    & {'num_filters_2': num_filters}\n",
    "key = (Fit() * model_rel).fetch(dj.key, order_by='val_loss', limit=1)[0]\n",
    "num_rotations = (model_rel & key).fetch1('num_rotations')\n",
    "model = Fit().get_model(key)"
   ]
  },
  {
   "cell_type": "code",
   "execution_count": null,
   "metadata": {},
   "outputs": [],
   "source": [
    "tfs = model.base.tf_session\n",
    "graph = tfs.graph\n",
    "checkpoint_file = os.path.join(tfs.log_dir, 'model.ckpt')\n",
    "input_shape = [model.base.data.input_shape[1], model.base.data.input_shape[2]]\n",
    "gradRF = GradientRF(graph, checkpoint_file, input_shape)\n",
    "\n",
    "min_corr = 0.2\n",
    "k = 12   # x2\n",
    "n_x = masks.shape[2] + 2*k\n",
    "n = [4, 4]\n",
    "type_id = np.argmax(np.abs(w_marg), axis=1)\n",
    "fig, axes = plt.subplots(n[0], n[1], figsize=(4*n[1], 4*n[0]))\n",
    "for i, ax in enumerate(axes.flatten()):\n",
    "    idx, = np.where((type_id == i) & (r > min_corr))\n",
    "    order = np.argsort(-w_marg[idx,i])\n",
    "    rfs = []\n",
    "    for unit_id in idx[order[:n[0]*n[1]]]:\n",
    "        rf = gradRF.gradient(unit_id)\n",
    "        rf = np.pad(rf, k, 'constant')\n",
    "        rf /= np.abs(rf).max() + 1e-3\n",
    "        mask = np.pad(masks[unit_id], k, 'constant')\n",
    "        rf_idx = mask.argmax()\n",
    "        rf_i, rf_j = rf_idx // n_x, rf_idx % n_x\n",
    "        rfs.append(rf[rf_i-k:rf_i+k,rf_j-k:rf_j+k])\n",
    "\n",
    "    rfs = np.array(rfs).reshape([n[0], n[1]*2*k, 2*k])\n",
    "    rfs = np.concatenate(rfs, axis=1)\n",
    "    ax.imshow(rfs, vmin=-1, vmax=1)\n",
    "    ax.axis('off')\n",
    "\n",
    "fig.savefig('figures/gradients_4x4_all.eps', format='eps')    "
   ]
  },
  {
   "cell_type": "code",
   "execution_count": null,
   "metadata": {},
   "outputs": [],
   "source": []
  }
 ],
 "metadata": {
  "kernelspec": {
   "display_name": "Python 3",
   "language": "python",
   "name": "python3"
  },
  "language_info": {
   "codemirror_mode": {
    "name": "ipython",
    "version": 3
   },
   "file_extension": ".py",
   "mimetype": "text/x-python",
   "name": "python",
   "nbconvert_exporter": "python",
   "pygments_lexer": "ipython3",
   "version": "3.5.2"
  }
 },
 "nbformat": 4,
 "nbformat_minor": 2
}
