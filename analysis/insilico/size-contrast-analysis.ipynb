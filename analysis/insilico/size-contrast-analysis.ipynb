{
 "cells": [
  {
   "cell_type": "code",
   "execution_count": null,
   "metadata": {},
   "outputs": [],
   "source": [
    "%load_ext autoreload\n",
    "%autoreload 2\n",
    "%matplotlib inline\n",
    "\n",
    "import datajoint as dj\n",
    "import tensorflow as tf\n",
    "import matplotlib.pyplot as plt\n",
    "import numpy as np\n",
    "\n",
    "import seaborn as sns\n",
    "sns.set_style('ticks', rc={'image.cmap': 'bwr'})\n",
    "\n",
    "import os\n",
    "import sys\n",
    "import inspect\n",
    "\n",
    "p = !pwd\n",
    "p = os.path.dirname(os.path.dirname(p[0]))\n",
    "if p not in sys.path:\n",
    "    sys.path.append(p)"
   ]
  },
  {
   "cell_type": "code",
   "execution_count": null,
   "metadata": {},
   "outputs": [],
   "source": [
    "from cnn_sys_ident.mesonet.data import MultiDataset\n",
    "from cnn_sys_ident.mesonet.parameters import Core, Readout, Model, RegPath, Fit\n",
    "from cnn_sys_ident.mesonet import MODELS\n",
    "from cnn_sys_ident.mesonet.insilico import GaborParams, OptimalGabor, \\\n",
    "    SizeContrastTuning, SizeContrastTuningParams\n",
    "from cnn_sys_ident.architectures.training import Trainer"
   ]
  },
  {
   "cell_type": "code",
   "execution_count": null,
   "metadata": {},
   "outputs": [],
   "source": [
    "data_key = {'data_hash': 'cfcd208495d565ef66e7dff9f98764da'}\n",
    "dataset = MultiDataset() & data_key"
   ]
  },
  {
   "cell_type": "markdown",
   "metadata": {},
   "source": [
    "# Load a model"
   ]
  },
  {
   "cell_type": "code",
   "execution_count": null,
   "metadata": {},
   "outputs": [],
   "source": [
    "num_filters = 16\n",
    "model_rel = MODELS['HermiteSparse'] * dataset \\\n",
    "    & 'positive_feature_weights=False AND shared_biases=False' \\\n",
    "    & {'num_filters_2': num_filters}\n",
    "key = (Fit() * model_rel).fetch(dj.key, order_by='val_loss', limit=1)[0]\n",
    "num_rotations = (model_rel & key).fetch1('num_rotations')\n",
    "model = Fit().load_model(key)"
   ]
  },
  {
   "cell_type": "code",
   "execution_count": null,
   "metadata": {},
   "outputs": [],
   "source": [
    "masks = model.base.evaluate(model.readout.masks)\n",
    "w = model.base.evaluate(model.readout.feature_weights)\n",
    "w_norm = w / np.sqrt(np.sum(w ** 2, axis=1, keepdims=True))\n",
    "w_marg = w_norm.reshape([-1, num_rotations, num_filters])\n",
    "w_marg = np.sum(w_marg ** 2, axis=1)\n",
    "\n",
    "print(masks.shape)\n",
    "print(w.shape)\n",
    "print(w_marg.shape)"
   ]
  },
  {
   "cell_type": "code",
   "execution_count": null,
   "metadata": {},
   "outputs": [],
   "source": [
    "trainer = Trainer(model.base, model)\n",
    "r = trainer.compute_val_corr()\n",
    "print(r.mean())"
   ]
  },
  {
   "cell_type": "markdown",
   "metadata": {},
   "source": [
    "### Plot tuning curves"
   ]
  },
  {
   "cell_type": "code",
   "execution_count": null,
   "metadata": {},
   "outputs": [],
   "source": [
    "tc = SizeContrastTuning.Unit().fetch('tuning_curve', order_by='unit_id')\n",
    "tc = np.array([t for t in tc])\n",
    "\n",
    "ms, k, inc = SizeContrastTuningParams().fetch('min_size', 'num_sizes', 'size_increment')\n",
    "sizes = ms * (inc ** np.arange(k))\n",
    "\n",
    "# convert to degrees\n",
    "monitor_distance = 15.0 # cm\n",
    "monitor_width = 55.0    # cm\n",
    "sizes_deg = np.arctan(monitor_width / masks.shape[2] * sizes / monitor_distance)/ np.pi * 180"
   ]
  },
  {
   "cell_type": "code",
   "execution_count": null,
   "metadata": {},
   "outputs": [],
   "source": [
    "a, b = 5, 12\n",
    "colors = plt.cm.gist_earth(np.linspace(0, 1, b-a))\n",
    "colors = np.flipud(colors)\n",
    "\n",
    "min_corr = 0.1\n",
    "n = [4, 4]\n",
    "type_id = np.argmax(np.abs(w_marg), axis=1)\n",
    "unit_ids = []\n",
    "for i in range(num_filters):\n",
    "    idx, = np.where((type_id == i) & (r > min_corr))\n",
    "    order = np.argsort(-w_marg[idx,i])\n",
    "    fig, axes = plt.subplots(n[0], n[1], figsize=(n[1], n[0]))\n",
    "    for t, ax in zip(tc[idx[order]], axes.flatten()):\n",
    "        for ti, ci in zip(t.T[a:b], colors):\n",
    "            ax.plot(sizes_deg, ti, color=ci)\n",
    "        ax.set_ylim([0, 1.1*t.max()])\n",
    "        ax.axis('off')\n",
    "    ax.axis('on')\n",
    "    ax.set_yticks([])\n",
    "    sns.despine(fig=fig)\n",
    "    fig.suptitle('Group {:d}'.format(i+1))\n",
    "    fig.savefig('figures/size_contrast_{:d}.eps'.format(i+1), format='eps')"
   ]
  },
  {
   "cell_type": "code",
   "execution_count": null,
   "metadata": {},
   "outputs": [],
   "source": []
  }
 ],
 "metadata": {
  "kernelspec": {
   "display_name": "Python 3",
   "language": "python",
   "name": "python3"
  },
  "language_info": {
   "codemirror_mode": {
    "name": "ipython",
    "version": 3
   },
   "file_extension": ".py",
   "mimetype": "text/x-python",
   "name": "python",
   "nbconvert_exporter": "python",
   "pygments_lexer": "ipython3",
   "version": "3.5.2"
  }
 },
 "nbformat": 4,
 "nbformat_minor": 2
}
