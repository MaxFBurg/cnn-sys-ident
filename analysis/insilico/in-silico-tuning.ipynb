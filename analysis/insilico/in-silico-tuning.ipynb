{
 "cells": [
  {
   "cell_type": "code",
   "execution_count": null,
   "metadata": {},
   "outputs": [],
   "source": [
    "%load_ext autoreload\n",
    "%autoreload 2\n",
    "%matplotlib inline\n",
    "\n",
    "import datajoint as dj\n",
    "import tensorflow as tf\n",
    "import matplotlib.pyplot as plt\n",
    "import numpy as np\n",
    "\n",
    "import seaborn as sns\n",
    "sns.set_style('ticks', rc={'image.cmap': 'bwr'})\n",
    "\n",
    "import os\n",
    "import sys\n",
    "import inspect\n",
    "\n",
    "p = !pwd\n",
    "p = os.path.dirname(os.path.dirname(p[0]))\n",
    "if p not in sys.path:\n",
    "    sys.path.append(p)"
   ]
  },
  {
   "cell_type": "code",
   "execution_count": null,
   "metadata": {},
   "outputs": [],
   "source": [
    "from cnn_sys_ident.mesonet.data import MultiDataset\n",
    "from cnn_sys_ident.mesonet.parameters import Core, Readout, Model, RegPath, Fit\n",
    "from cnn_sys_ident.mesonet import MODELS"
   ]
  },
  {
   "cell_type": "code",
   "execution_count": null,
   "metadata": {},
   "outputs": [],
   "source": [
    "data_key = {'data_hash': 'cfcd208495d565ef66e7dff9f98764da'}\n",
    "dataset = MultiDataset() & data_key"
   ]
  },
  {
   "cell_type": "markdown",
   "metadata": {},
   "source": [
    "# Load a model"
   ]
  },
  {
   "cell_type": "code",
   "execution_count": null,
   "metadata": {},
   "outputs": [],
   "source": [
    "num_filters = 16\n",
    "model_rel = MODELS['HermiteSparse'] * dataset \\\n",
    "    & 'positive_feature_weights=False AND shared_biases=False' \\\n",
    "    & {'num_filters_2': num_filters}\n",
    "key = (Fit() * model_rel).fetch(dj.key, order_by='val_loss', limit=1)[0]\n",
    "num_rotations = (model_rel & key).fetch1('num_rotations')\n",
    "model = Fit().load_model(key)"
   ]
  },
  {
   "cell_type": "markdown",
   "metadata": {},
   "source": [
    "### Find approximate receptive field locations"
   ]
  },
  {
   "cell_type": "code",
   "execution_count": null,
   "metadata": {},
   "outputs": [],
   "source": [
    "masks = model.base.evaluate(model.readout.masks)\n",
    "k = 50\n",
    "m = np.exp(k*masks) / np.sum(np.exp(k*masks), axis=(1,2), keepdims=True)\n",
    "\n",
    "ny, nx = m.shape[1:]\n",
    "x = [27, 49]\n",
    "y = [5, 28]\n",
    "plt.figure(figsize=(20, 10))\n",
    "plt.imshow(m.max(axis=0), cmap='gray')\n",
    "plt.plot([x[0], x[0]], [0, ny-1], 'w')\n",
    "plt.plot([x[1], x[1]], [0, ny-1], 'w')\n",
    "plt.plot([0, nx-1], [y[0], y[0]], 'w')\n",
    "plt.plot([0, nx-1], [y[1], y[1]], 'w')\n",
    "plt.colorbar()\n",
    "plt.show()"
   ]
  },
  {
   "cell_type": "markdown",
   "metadata": {},
   "source": [
    "## Generate set of Gabors"
   ]
  },
  {
   "cell_type": "code",
   "execution_count": null,
   "metadata": {},
   "outputs": [],
   "source": [
    "from cnn_sys_ident.utils.stimuli import GaborSet"
   ]
  },
  {
   "cell_type": "code",
   "execution_count": null,
   "metadata": {},
   "outputs": [],
   "source": [
    "canvas_size = (64, 36)\n",
    "center_range = (27, 49, 5, 28)\n",
    "sizes = 8 * 1.3 ** np.arange(8)\n",
    "spatial_frequencies = 1 * 1.35 ** np.arange(-1, 3)\n",
    "contrasts = 2.0 ** np.arange(-5, 1)\n",
    "num_orientations = 12\n",
    "num_phases = 8\n",
    "g = GaborSet(canvas_size, center_range, sizes, spatial_frequencies,\n",
    "             contrasts, num_orientations, num_phases)"
   ]
  },
  {
   "cell_type": "code",
   "execution_count": null,
   "metadata": {},
   "outputs": [],
   "source": [
    "for idx in np.random.randint(np.prod(g.num_stims), size=(10,)):\n",
    "    plt.imshow(g.gabor_from_idx(idx), vmin=-1, vmax=1)\n",
    "    plt.colorbar()\n",
    "    plt.show()    "
   ]
  },
  {
   "cell_type": "markdown",
   "metadata": {},
   "source": [
    "# Database tables"
   ]
  },
  {
   "cell_type": "code",
   "execution_count": null,
   "metadata": {},
   "outputs": [],
   "source": [
    "from cnn_sys_ident.mesonet.insilico import GaborParams, OptimalGabor"
   ]
  },
  {
   "cell_type": "code",
   "execution_count": null,
   "metadata": {},
   "outputs": [],
   "source": [
    "GaborParams()"
   ]
  },
  {
   "cell_type": "code",
   "execution_count": null,
   "metadata": {},
   "outputs": [],
   "source": [
    "OptimalGabor().populate()"
   ]
  },
  {
   "cell_type": "markdown",
   "metadata": {},
   "source": [
    "# Size-contrast experiment"
   ]
  },
  {
   "cell_type": "code",
   "execution_count": null,
   "metadata": {},
   "outputs": [],
   "source": [
    "from cnn_sys_ident.mesonet.insilico import OptimalGabor, SizeContrastTuning, SizeContrastTuningParams"
   ]
  },
  {
   "cell_type": "code",
   "execution_count": null,
   "metadata": {},
   "outputs": [],
   "source": [
    "SizeContrastTuning().populate()"
   ]
  },
  {
   "cell_type": "code",
   "execution_count": null,
   "metadata": {},
   "outputs": [],
   "source": [
    "g = SizeContrastTuningParams().gabor_set(\n",
    "    SizeContrastTuningParams().fetch1(dj.key),\n",
    "    [64, 36], [12, 26], 1/8, np.pi/4, 0\n",
    ")"
   ]
  },
  {
   "cell_type": "code",
   "execution_count": null,
   "metadata": {},
   "outputs": [],
   "source": [
    "fig, axes = plt.subplots(12, 12, figsize=(18, 12))\n",
    "for ax, img in zip(axes.flatten(), g.images()):\n",
    "    ax.matshow(img, cmap='gray', vmin=-1, vmax=1)"
   ]
  },
  {
   "cell_type": "markdown",
   "metadata": {},
   "source": [
    "### Plot tuning curves"
   ]
  },
  {
   "cell_type": "code",
   "execution_count": null,
   "metadata": {},
   "outputs": [],
   "source": [
    "tc = SizeContrastTuning.Unit().fetch('tuning_curve')\n",
    "tc = np.array([t for t in tc])"
   ]
  },
  {
   "cell_type": "code",
   "execution_count": null,
   "metadata": {},
   "outputs": [],
   "source": [
    "k = 12\n",
    "colors = plt.cm.gist_earth(np.linspace(0, 1, k))\n",
    "colors = np.flipud(colors)\n",
    "n = 10\n",
    "fig, axes = plt.subplots(n, n, figsize=(2*n, 2*n))\n",
    "for ax, t in zip(axes.flatten(), tc):\n",
    "    for ti, ci in zip(t.T, colors):\n",
    "        ax.plot(ti, color=ci)\n",
    "    ax.set_ylim([0, 1.1*t.max()])\n",
    "    sns.despine(ax=ax)"
   ]
  },
  {
   "cell_type": "markdown",
   "metadata": {},
   "source": [
    "# Orthogonal plaids"
   ]
  },
  {
   "cell_type": "code",
   "execution_count": null,
   "metadata": {},
   "outputs": [],
   "source": [
    "from cnn_sys_ident.mesonet.insilico import OrthPlaidsContrast, OrthPlaidsContrastParams"
   ]
  },
  {
   "cell_type": "code",
   "execution_count": null,
   "metadata": {},
   "outputs": [],
   "source": []
  }
 ],
 "metadata": {
  "kernelspec": {
   "display_name": "Python 3",
   "language": "python",
   "name": "python3"
  },
  "language_info": {
   "codemirror_mode": {
    "name": "ipython",
    "version": 3
   },
   "file_extension": ".py",
   "mimetype": "text/x-python",
   "name": "python",
   "nbconvert_exporter": "python",
   "pygments_lexer": "ipython3",
   "version": "3.5.2"
  }
 },
 "nbformat": 4,
 "nbformat_minor": 2
}
