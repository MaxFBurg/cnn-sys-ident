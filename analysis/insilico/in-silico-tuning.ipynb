{
 "cells": [
  {
   "cell_type": "code",
   "execution_count": 1,
   "metadata": {},
   "outputs": [
    {
     "name": "stderr",
     "output_type": "stream",
     "text": [
      "/usr/local/lib/python3.5/dist-packages/h5py/__init__.py:36: FutureWarning: Conversion of the second argument of issubdtype from `float` to `np.floating` is deprecated. In future, it will be treated as `np.float64 == np.dtype(float).type`.\n",
      "  from ._conv import register_converters as _register_converters\n"
     ]
    }
   ],
   "source": [
    "%load_ext autoreload\n",
    "%autoreload 2\n",
    "%matplotlib inline\n",
    "\n",
    "import datajoint as dj\n",
    "import tensorflow as tf\n",
    "import matplotlib.pyplot as plt\n",
    "import numpy as np\n",
    "\n",
    "import seaborn as sns\n",
    "sns.set_style('ticks', rc={'image.cmap': 'bwr'})\n",
    "\n",
    "import os\n",
    "import sys\n",
    "import inspect\n",
    "\n",
    "p = !pwd\n",
    "p = os.path.dirname(os.path.dirname(p[0]))\n",
    "if p not in sys.path:\n",
    "    sys.path.append(p)"
   ]
  },
  {
   "cell_type": "code",
   "execution_count": 2,
   "metadata": {},
   "outputs": [
    {
     "name": "stdout",
     "output_type": "stream",
     "text": [
      "Connecting aecker@52.202.15.166:3306\n"
     ]
    }
   ],
   "source": [
    "from cnn_sys_ident.mesonet.data import MultiDataset\n",
    "from cnn_sys_ident.mesonet.parameters import Core, Readout, Model, RegPath, Fit\n",
    "from cnn_sys_ident.mesonet import MODELS"
   ]
  },
  {
   "cell_type": "code",
   "execution_count": 3,
   "metadata": {},
   "outputs": [],
   "source": [
    "data_key = {'data_hash': 'cfcd208495d565ef66e7dff9f98764da'}\n",
    "dataset = MultiDataset() & data_key"
   ]
  },
  {
   "cell_type": "markdown",
   "metadata": {},
   "source": [
    "# Load a model"
   ]
  },
  {
   "cell_type": "code",
   "execution_count": null,
   "metadata": {},
   "outputs": [],
   "source": [
    "num_filters = 16\n",
    "model_rel = MODELS['HermiteSparse'] * dataset \\\n",
    "    & 'positive_feature_weights=False AND shared_biases=False' \\\n",
    "    & {'num_filters_2': num_filters}\n",
    "key = (Fit() * model_rel).fetch(dj.key, order_by='val_loss', limit=2)[1]\n",
    "num_rotations = (model_rel & key).fetch1('num_rotations')\n",
    "model = Fit().load_model(key)"
   ]
  },
  {
   "cell_type": "markdown",
   "metadata": {},
   "source": [
    "### Find approximate receptive field locations"
   ]
  },
  {
   "cell_type": "code",
   "execution_count": null,
   "metadata": {},
   "outputs": [],
   "source": [
    "masks = model.base.evaluate(model.readout.masks)\n",
    "k = 50\n",
    "m = np.exp(k*masks) / np.sum(np.exp(k*masks), axis=(1,2), keepdims=True)\n",
    "\n",
    "ny, nx = m.shape[1:]\n",
    "x = [27, 49]\n",
    "y = [5, 28]\n",
    "plt.figure(figsize=(20, 10))\n",
    "plt.imshow(m.max(axis=0), cmap='gray')\n",
    "plt.plot([x[0], x[0]], [0, ny-1], 'w')\n",
    "plt.plot([x[1], x[1]], [0, ny-1], 'w')\n",
    "plt.plot([0, nx-1], [y[0], y[0]], 'w')\n",
    "plt.plot([0, nx-1], [y[1], y[1]], 'w')\n",
    "plt.colorbar()\n",
    "plt.show()"
   ]
  },
  {
   "cell_type": "markdown",
   "metadata": {},
   "source": [
    "## Generate set of Gabors"
   ]
  },
  {
   "cell_type": "code",
   "execution_count": 4,
   "metadata": {},
   "outputs": [],
   "source": [
    "from cnn_sys_ident.utils.stimuli import GaborSet"
   ]
  },
  {
   "cell_type": "code",
   "execution_count": null,
   "metadata": {},
   "outputs": [],
   "source": [
    "canvas_size = (64, 36)\n",
    "center_range = (27, 49, 5, 28)\n",
    "sizes = 8 * 1.3 ** np.arange(8)\n",
    "spatial_frequencies = 1 * 1.35 ** np.arange(-1, 3)\n",
    "contrasts = 2.0 ** np.arange(-5, 1)\n",
    "num_orientations = 12\n",
    "num_phases = 8\n",
    "g = GaborSet(canvas_size, center_range, sizes, spatial_frequencies,\n",
    "             contrasts, num_orientations, num_phases)"
   ]
  },
  {
   "cell_type": "code",
   "execution_count": null,
   "metadata": {},
   "outputs": [],
   "source": [
    "for idx in np.random.randint(np.prod(g.num_stims), size=(10,)):\n",
    "    plt.imshow(g.gabor_from_idx(idx), vmin=-1, vmax=1)\n",
    "    plt.colorbar()\n",
    "    plt.show()    "
   ]
  },
  {
   "cell_type": "markdown",
   "metadata": {},
   "source": [
    "# Database tables"
   ]
  },
  {
   "cell_type": "code",
   "execution_count": 4,
   "metadata": {},
   "outputs": [],
   "source": [
    "from cnn_sys_ident.mesonet.insilico import GaborParams, OptimalGabor"
   ]
  },
  {
   "cell_type": "code",
   "execution_count": 5,
   "metadata": {},
   "outputs": [
    {
     "data": {
      "text/html": [
       "\n",
       "        \n",
       "        <style type=\"text/css\">\n",
       "            .Relation{\n",
       "                border-collapse:collapse;\n",
       "            }\n",
       "            .Relation th{\n",
       "                background: #A0A0A0; color: #ffffff; padding:4px; border:#f0e0e0 1px solid;\n",
       "                font-weight: normal; font-family: monospace; font-size: 100%;\n",
       "            }\n",
       "            .Relation td{\n",
       "                padding:4px; border:#f0e0e0 1px solid; font-size:100%;\n",
       "            }\n",
       "            .Relation tr:nth-child(odd){\n",
       "                background: #ffffff;\n",
       "            }\n",
       "            .Relation tr:nth-child(even){\n",
       "                background: #f3f1ff;\n",
       "            }\n",
       "            /* Tooltip container */\n",
       "            .djtooltip {\n",
       "            }\n",
       "            /* Tooltip text */\n",
       "            .djtooltip .djtooltiptext {\n",
       "                visibility: hidden;\n",
       "                width: 120px;\n",
       "                background-color: black;\n",
       "                color: #fff;\n",
       "                text-align: center;\n",
       "                padding: 5px 0;\n",
       "                border-radius: 6px;\n",
       "                /* Position the tooltip text - see examples below! */\n",
       "                position: absolute;\n",
       "                z-index: 1;\n",
       "            }\n",
       "            #primary {\n",
       "                font-weight: bold;\n",
       "                color: black;\n",
       "            }\n",
       "\n",
       "            #nonprimary {\n",
       "                font-weight: normal;\n",
       "                color: white;\n",
       "            }\n",
       "\n",
       "            /* Show the tooltip text when you mouse over the tooltip container */\n",
       "            .djtooltip:hover .djtooltiptext {\n",
       "                visibility: visible;\n",
       "            }\n",
       "        </style>\n",
       "        \n",
       "        <b></b>\n",
       "            <div style=\"max-height:1000px;max-width:1500px;overflow:auto;\">\n",
       "            <table border=\"1\" class=\"Relation\">\n",
       "                <thead> <tr style=\"text-align: right;\"> <th> <div class=\"djtooltip\">\n",
       "                                <p id=\"primary\">param_id</p>\n",
       "                                <span class=\"djtooltiptext\">id for parameter set</span>\n",
       "                            </div></th><th><div class=\"djtooltip\">\n",
       "                                <p id=\"nonprimary\">x_start</p>\n",
       "                                <span class=\"djtooltiptext\">start location in x</span>\n",
       "                            </div></th><th><div class=\"djtooltip\">\n",
       "                                <p id=\"nonprimary\">x_end</p>\n",
       "                                <span class=\"djtooltiptext\">end location in x</span>\n",
       "                            </div></th><th><div class=\"djtooltip\">\n",
       "                                <p id=\"nonprimary\">y_start</p>\n",
       "                                <span class=\"djtooltiptext\">start location in y</span>\n",
       "                            </div></th><th><div class=\"djtooltip\">\n",
       "                                <p id=\"nonprimary\">y_end</p>\n",
       "                                <span class=\"djtooltiptext\">end location in y</span>\n",
       "                            </div></th><th><div class=\"djtooltip\">\n",
       "                                <p id=\"nonprimary\">min_size</p>\n",
       "                                <span class=\"djtooltiptext\">minimum size in pixels</span>\n",
       "                            </div></th><th><div class=\"djtooltip\">\n",
       "                                <p id=\"nonprimary\">num_sizes</p>\n",
       "                                <span class=\"djtooltiptext\">number of different sizes</span>\n",
       "                            </div></th><th><div class=\"djtooltip\">\n",
       "                                <p id=\"nonprimary\">size_increment</p>\n",
       "                                <span class=\"djtooltiptext\">relative size increments</span>\n",
       "                            </div></th><th><div class=\"djtooltip\">\n",
       "                                <p id=\"nonprimary\">min_sf</p>\n",
       "                                <span class=\"djtooltiptext\">minimum spatial frequency</span>\n",
       "                            </div></th><th><div class=\"djtooltip\">\n",
       "                                <p id=\"nonprimary\">num_sf</p>\n",
       "                                <span class=\"djtooltiptext\">number of spatial frequencies (SF)</span>\n",
       "                            </div></th><th><div class=\"djtooltip\">\n",
       "                                <p id=\"nonprimary\">sf_increment</p>\n",
       "                                <span class=\"djtooltiptext\">relative SF increments</span>\n",
       "                            </div></th><th><div class=\"djtooltip\">\n",
       "                                <p id=\"nonprimary\">min_contrast</p>\n",
       "                                <span class=\"djtooltiptext\">minimum contrast (Michelson)</span>\n",
       "                            </div></th><th><div class=\"djtooltip\">\n",
       "                                <p id=\"nonprimary\">num_contrasts</p>\n",
       "                                <span class=\"djtooltiptext\">number of contrast levels</span>\n",
       "                            </div></th><th><div class=\"djtooltip\">\n",
       "                                <p id=\"nonprimary\">contrast_increment</p>\n",
       "                                <span class=\"djtooltiptext\">relative contrast increments</span>\n",
       "                            </div></th><th><div class=\"djtooltip\">\n",
       "                                <p id=\"nonprimary\">num_orientations</p>\n",
       "                                <span class=\"djtooltiptext\">number of orientations</span>\n",
       "                            </div></th><th><div class=\"djtooltip\">\n",
       "                                <p id=\"nonprimary\">num_phases</p>\n",
       "                                <span class=\"djtooltiptext\">number of phases</span>\n",
       "                            </div> </th> </tr> </thead>\n",
       "                <tbody> <tr> <td>1</td>\n",
       "<td>27</td>\n",
       "<td>49</td>\n",
       "<td>5</td>\n",
       "<td>28</td>\n",
       "<td>8.0</td>\n",
       "<td>8</td>\n",
       "<td>1.25</td>\n",
       "<td>0.769231</td>\n",
       "<td>4</td>\n",
       "<td>1.3</td>\n",
       "<td>0.03125</td>\n",
       "<td>6</td>\n",
       "<td>2.0</td>\n",
       "<td>12</td>\n",
       "<td>8</td> </tr> </tbody>\n",
       "            </table>\n",
       "            \n",
       "            <p>1 tuples</p></div>\n",
       "            "
      ],
      "text/plain": [
       "*param_id    x_start     x_end     y_start     y_end     min_size     num_sizes     size_increment min_sf       num_sf     sf_increment   min_contrast   num_contrasts  contrast_incre num_orientatio num_phases    \n",
       "+----------+ +---------+ +-------+ +---------+ +-------+ +----------+ +-----------+ +------------+ +----------+ +--------+ +------------+ +------------+ +------------+ +------------+ +------------+ +------------+\n",
       "1            27          49        5           28        8.0          8             1.25           0.769231     4          1.3            0.03125        6              2.0            12             8             \n",
       " (1 tuples)"
      ]
     },
     "execution_count": 5,
     "metadata": {},
     "output_type": "execute_result"
    }
   ],
   "source": [
    "GaborParams()"
   ]
  },
  {
   "cell_type": "code",
   "execution_count": null,
   "metadata": {},
   "outputs": [],
   "source": [
    "OptimalGabor().populate()"
   ]
  },
  {
   "cell_type": "markdown",
   "metadata": {},
   "source": [
    "# Size-contrast experiment"
   ]
  },
  {
   "cell_type": "code",
   "execution_count": 6,
   "metadata": {},
   "outputs": [],
   "source": [
    "from cnn_sys_ident.mesonet.insilico import OptimalGabor, SizeContrastTuning, SizeContrastTuningParams"
   ]
  },
  {
   "cell_type": "code",
   "execution_count": null,
   "metadata": {},
   "outputs": [],
   "source": [
    "SizeContrastTuning().populate()"
   ]
  },
  {
   "cell_type": "code",
   "execution_count": 19,
   "metadata": {},
   "outputs": [],
   "source": [
    "g = SizeContrastTuningParams().gabor_set(\n",
    "    SizeContrastTuningParams().fetch1(dj.key),\n",
    "    [64, 36], [12, 26], 1/8, np.pi/4, 0\n",
    ")"
   ]
  },
  {
   "cell_type": "code",
   "execution_count": null,
   "metadata": {},
   "outputs": [],
   "source": [
    "fig, axes = plt.subplots(12, 12, figsize=(18, 12))\n",
    "for ax, img in zip(axes.flatten(), g.images()):\n",
    "    ax.matshow(img, cmap='gray', vmin=-1, vmax=1)"
   ]
  },
  {
   "cell_type": "markdown",
   "metadata": {},
   "source": [
    "### Plot tuning curves"
   ]
  },
  {
   "cell_type": "code",
   "execution_count": 50,
   "metadata": {},
   "outputs": [],
   "source": [
    "tc = SizeContrastTuning.Unit().fetch('tuning_curve')\n",
    "tc = np.array([t for t in tc])"
   ]
  },
  {
   "cell_type": "code",
   "execution_count": null,
   "metadata": {},
   "outputs": [],
   "source": [
    "k = 12\n",
    "colors = plt.cm.gist_earth(np.linspace(0, 1, k))\n",
    "colors = np.flipud(colors)\n",
    "n = 10\n",
    "fig, axes = plt.subplots(n, n, figsize=(2*n, 2*n))\n",
    "for ax, t in zip(axes.flatten(), tc):\n",
    "    for ti, ci in zip(t.T, colors):\n",
    "        ax.plot(ti, color=ci)\n",
    "    ax.set_ylim([0, 1.1*t.max()])\n",
    "    sns.despine(ax=ax)"
   ]
  },
  {
   "cell_type": "markdown",
   "metadata": {},
   "source": [
    "# Orthogonal plaids"
   ]
  },
  {
   "cell_type": "code",
   "execution_count": null,
   "metadata": {},
   "outputs": [],
   "source": [
    "from cnn_sys_ident.mesonet.insilico import OrthPlaidsContrast, OrthPlaidsContrastParams"
   ]
  },
  {
   "cell_type": "code",
   "execution_count": null,
   "metadata": {},
   "outputs": [],
   "source": []
  }
 ],
 "metadata": {
  "kernelspec": {
   "display_name": "Python 3",
   "language": "python",
   "name": "python3"
  },
  "language_info": {
   "codemirror_mode": {
    "name": "ipython",
    "version": 3
   },
   "file_extension": ".py",
   "mimetype": "text/x-python",
   "name": "python",
   "nbconvert_exporter": "python",
   "pygments_lexer": "ipython3",
   "version": "3.5.2"
  }
 },
 "nbformat": 4,
 "nbformat_minor": 2
}
