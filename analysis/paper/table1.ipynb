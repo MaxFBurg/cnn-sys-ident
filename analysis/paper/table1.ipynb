{
 "cells": [
  {
   "cell_type": "code",
   "execution_count": null,
   "metadata": {},
   "outputs": [],
   "source": [
    "%load_ext autoreload\n",
    "%autoreload 2\n",
    "%matplotlib inline\n",
    "\n",
    "import datajoint as dj\n",
    "import tensorflow as tf\n",
    "import matplotlib.pyplot as plt\n",
    "import numpy as np\n",
    "\n",
    "import seaborn as sns\n",
    "sns.set_style('ticks')\n",
    "\n",
    "import os\n",
    "import sys\n",
    "import inspect\n",
    "\n",
    "p = !pwd\n",
    "p = os.path.dirname(os.path.dirname(p[0]))\n",
    "if p not in sys.path:\n",
    "    sys.path.append(p)"
   ]
  },
  {
   "cell_type": "code",
   "execution_count": null,
   "metadata": {},
   "outputs": [],
   "source": [
    "from cnn_sys_ident.mesonet.parameters import Fit, Model, Core, Readout, RegPath\n",
    "from cnn_sys_ident.mesonet.data import MultiDataset\n",
    "from cnn_sys_ident.mesonet import MODELS"
   ]
  },
  {
   "cell_type": "markdown",
   "metadata": {},
   "source": [
    "# Main model"
   ]
  },
  {
   "cell_type": "code",
   "execution_count": null,
   "metadata": {},
   "outputs": [],
   "source": [
    "num_filters = 16\n",
    "data_key = dict(data_hash='cfcd208495d565ef66e7dff9f98764da')"
   ]
  },
  {
   "cell_type": "code",
   "execution_count": null,
   "metadata": {},
   "outputs": [],
   "source": [
    "model_rel = MODELS['HermiteSparse'] * MultiDataset() & data_key \\\n",
    "    & 'positive_feature_weights=False AND shared_biases=False' \\\n",
    "    & {'num_filters_2': num_filters}\n",
    "print(len(Fit() * model_rel))\n",
    "val_loss, test_corr = (Fit() * model_rel).fetch(\n",
    "    'val_loss', 'test_corr', order_by='val_loss', limit=5)\n",
    "print('Loss: {:.1f}, avg corr: {:.3f} +/- {:.4f}'.format(val_loss[0], test_corr[0], test_corr.std()))"
   ]
  },
  {
   "cell_type": "markdown",
   "metadata": {},
   "source": [
    "# Control: dense, L2-regularized feature weights"
   ]
  },
  {
   "cell_type": "code",
   "execution_count": null,
   "metadata": {},
   "outputs": [],
   "source": [
    "model_rel = MODELS['HermiteDenseSeparate'] * MultiDataset() & data_key \\\n",
    "    & 'positive_feature_weights=False AND shared_biases=False' \\\n",
    "    & {'num_filters_2': num_filters}\n",
    "print(len(Fit() * model_rel))\n",
    "val_loss, test_corr = (Fit() * model_rel).fetch(\n",
    "    'val_loss', 'test_corr', order_by='val_loss', limit=5)\n",
    "print('Loss: {:.1f}, avg corr: {:.3f} +/- {:.4f}'.format(val_loss[0], test_corr[0], test_corr.std()))"
   ]
  },
  {
   "cell_type": "markdown",
   "metadata": {},
   "source": [
    "# Control: positive feature weights"
   ]
  },
  {
   "cell_type": "code",
   "execution_count": null,
   "metadata": {},
   "outputs": [],
   "source": [
    "model_rel = MODELS['HermiteSparse'] * MultiDataset() & data_key \\\n",
    "    & 'positive_feature_weights=True AND shared_biases=False' \\\n",
    "    & {'num_filters_2': num_filters}\n",
    "print(len(Fit() * model_rel))\n",
    "val_loss, test_corr = (Fit() * model_rel).fetch(\n",
    "    'val_loss', 'test_corr', order_by='val_loss', limit=5)\n",
    "print('Loss: {:.1f}, avg corr: {:.3f} +/- {:.4f}'.format(val_loss[0], test_corr[0], test_corr.std()))"
   ]
  },
  {
   "cell_type": "markdown",
   "metadata": {},
   "source": [
    "# Baseline: regular CNNs"
   ]
  },
  {
   "cell_type": "code",
   "execution_count": null,
   "metadata": {},
   "outputs": [],
   "source": [
    "cnn_filter_nums = [\n",
    "    [32, 32, 32],\n",
    "    [64, 64, 64],\n",
    "    [128, 128, 128],\n",
    "    [128, 128, 256],\n",
    "]\n",
    "for n in cnn_filter_nums:\n",
    "    key = {'num_filters_{:d}'.format(i): n[i] for i in range(len(n))}\n",
    "    model_rel = MODELS['CNNSparse'] * MultiDataset() & data_key \\\n",
    "        & 'positive_feature_weights=False'\n",
    "    print(len(Fit() * model_rel & key))\n",
    "    val_loss, test_corr = (Fit() * model_rel & key).fetch(\n",
    "        'val_loss', 'test_corr', order_by='val_loss', limit=5)\n",
    "    print('Features: {}, Loss: {:.1f}, Avg. corr: {:.3f} +/- {:.4f}'.format(\n",
    "        n, val_loss[0], test_corr[0], test_corr.std()))"
   ]
  }
 ],
 "metadata": {
  "kernelspec": {
   "display_name": "Python 3",
   "language": "python",
   "name": "python3"
  },
  "language_info": {
   "codemirror_mode": {
    "name": "ipython",
    "version": 3
   },
   "file_extension": ".py",
   "mimetype": "text/x-python",
   "name": "python",
   "nbconvert_exporter": "python",
   "pygments_lexer": "ipython3",
   "version": "3.5.2"
  }
 },
 "nbformat": 4,
 "nbformat_minor": 2
}
