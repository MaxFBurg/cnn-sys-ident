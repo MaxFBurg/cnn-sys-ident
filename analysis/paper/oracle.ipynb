{
 "cells": [
  {
   "cell_type": "code",
   "execution_count": 1,
   "metadata": {},
   "outputs": [
    {
     "name": "stderr",
     "output_type": "stream",
     "text": [
      "/usr/local/lib/python3.5/dist-packages/h5py/__init__.py:36: FutureWarning: Conversion of the second argument of issubdtype from `float` to `np.floating` is deprecated. In future, it will be treated as `np.float64 == np.dtype(float).type`.\n",
      "  from ._conv import register_converters as _register_converters\n"
     ]
    }
   ],
   "source": [
    "%load_ext autoreload\n",
    "%autoreload 2\n",
    "%matplotlib inline\n",
    "\n",
    "import datajoint as dj\n",
    "import tensorflow as tf\n",
    "import matplotlib.pyplot as plt\n",
    "import numpy as np\n",
    "\n",
    "import seaborn as sns\n",
    "sns.set_style('ticks', rc={'image.cmap': 'bwr'})\n",
    "\n",
    "import os\n",
    "import sys\n",
    "import inspect\n",
    "\n",
    "p = !pwd\n",
    "p = os.path.dirname(os.path.dirname(p[0]))\n",
    "if p not in sys.path:\n",
    "    sys.path.append(p)"
   ]
  },
  {
   "cell_type": "code",
   "execution_count": 2,
   "metadata": {},
   "outputs": [
    {
     "name": "stdout",
     "output_type": "stream",
     "text": [
      "Connecting aecker@52.202.15.166:3306\n"
     ]
    }
   ],
   "source": [
    "from cnn_sys_ident.mesonet.data import MultiDataset\n",
    "from cnn_sys_ident.mesonet.parameters import Core, Readout, Model, RegPath, Fit\n",
    "from cnn_sys_ident.mesonet import MODELS\n",
    "from cnn_sys_ident.mesonet.controls import FitTrialSubset"
   ]
  },
  {
   "cell_type": "code",
   "execution_count": 3,
   "metadata": {},
   "outputs": [],
   "source": [
    "data_key = dict(data_hash='cfcd208495d565ef66e7dff9f98764da')\n",
    "data = (MultiDataset() & data_key).load_data()"
   ]
  },
  {
   "cell_type": "code",
   "execution_count": 4,
   "metadata": {},
   "outputs": [],
   "source": [
    "_, responses_test_raw = data.test(averages=False)\n",
    "reps, num_imgs, num_neurons = responses_test_raw.shape"
   ]
  },
  {
   "cell_type": "code",
   "execution_count": 7,
   "metadata": {},
   "outputs": [],
   "source": [
    "obs_var = (responses_test_raw.var(axis=0, ddof=1) / reps).mean(axis=0)\n",
    "total_var = responses_test_raw.mean(axis=0).var(axis=0, ddof=1)\n",
    "explainable_var = total_var - obs_var\n",
    "frac_explainable_var = explainable_var / total_var\n",
    "frac_explainable_var[frac_explainable_var < 0] = 0\n",
    "\n",
    "obs_var_raw = (responses_test_raw.var(axis=0, ddof=1)).mean(axis=0)\n",
    "total_var_raw = responses_test_raw.reshape([-1, num_neurons]).var(axis=0, ddof=1)"
   ]
  },
  {
   "cell_type": "code",
   "execution_count": 22,
   "metadata": {},
   "outputs": [
    {
     "data": {
      "image/png": "[encoded data removed]",
      "text/plain": [
       "<matplotlib.figure.Figure at 0x7fd1b7c38d30>"
      ]
     },
     "metadata": {},
     "output_type": "display_data"
    },
    {
     "data": {
      "image/png": "[encoded data removed]",
      "text/plain": [
       "<matplotlib.figure.Figure at 0x7fd1b7b71128>"
      ]
     },
     "metadata": {},
     "output_type": "display_data"
    }
   ],
   "source": [
    "plt.figure(figsize=(3, 2))\n",
    "sns.distplot(frac_explainable_var, kde=False)\n",
    "plt.xlabel('Fraction of explainable variance')\n",
    "plt.ylabel('Number of neurons')\n",
    "plt.xlim([0, 1])\n",
    "sns.despine(trim=True, offset=5)\n",
    "\n",
    "plt.figure(figsize=(3, 2))\n",
    "sns.distplot(np.sqrt(frac_explainable_var), kde=False)\n",
    "plt.xlabel('Maximal correlation')\n",
    "plt.ylabel('Number of neurons')\n",
    "plt.xlim([0, 1])\n",
    "sns.despine(trim=True, offset=5)"
   ]
  },
  {
   "cell_type": "code",
   "execution_count": 21,
   "metadata": {},
   "outputs": [
    {
     "name": "stdout",
     "output_type": "stream",
     "text": [
      "Best possible average correlation: 0.83\n"
     ]
    }
   ],
   "source": [
    "print('Best possible average correlation: {:.2f}'.format(\n",
    "    np.sqrt(frac_explainable_var).mean()))"
   ]
  },
  {
   "cell_type": "code",
   "execution_count": null,
   "metadata": {},
   "outputs": [],
   "source": []
  }
 ],
 "metadata": {
  "kernelspec": {
   "display_name": "Python 3",
   "language": "python",
   "name": "python3"
  },
  "language_info": {
   "codemirror_mode": {
    "name": "ipython",
    "version": 3
   },
   "file_extension": ".py",
   "mimetype": "text/x-python",
   "name": "python",
   "nbconvert_exporter": "python",
   "pygments_lexer": "ipython3",
   "version": "3.5.2"
  }
 },
 "nbformat": 4,
 "nbformat_minor": 2
}
