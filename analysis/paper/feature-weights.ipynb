{
 "cells": [
  {
   "cell_type": "code",
   "execution_count": null,
   "metadata": {},
   "outputs": [],
   "source": [
    "%load_ext autoreload\n",
    "%autoreload 2\n",
    "%matplotlib inline\n",
    "\n",
    "import datajoint as dj\n",
    "import tensorflow as tf\n",
    "import matplotlib.pyplot as plt\n",
    "import numpy as np\n",
    "\n",
    "import seaborn as sns\n",
    "sns.set_style('ticks')\n",
    "\n",
    "import os\n",
    "import sys\n",
    "import inspect\n",
    "\n",
    "p = !pwd\n",
    "p = os.path.dirname(os.path.dirname(p[0]))\n",
    "if p not in sys.path:\n",
    "    sys.path.append(p)"
   ]
  },
  {
   "cell_type": "code",
   "execution_count": null,
   "metadata": {},
   "outputs": [],
   "source": [
    "from cnn_sys_ident.mesonet.parameters import Fit, Model, Core, Readout, RegPath\n",
    "from cnn_sys_ident.mesonet.data import MultiDataset\n",
    "from cnn_sys_ident.mesonet import MODELS"
   ]
  },
  {
   "cell_type": "markdown",
   "metadata": {},
   "source": [
    "# Get best model"
   ]
  },
  {
   "cell_type": "code",
   "execution_count": null,
   "metadata": {},
   "outputs": [],
   "source": [
    "num_filters = 16\n",
    "num_rotations = 8\n",
    "data_key = dict(data_hash='cfcd208495d565ef66e7dff9f98764da')\n",
    "model_rel = MODELS['HermiteSparse'] * MultiDataset() & data_key \\\n",
    "    & 'positive_feature_weights=False AND shared_biases=False' \\\n",
    "    & {'num_filters_2': num_filters}\n",
    "print(len(Fit() * model_rel))\n",
    "key = (Fit() * model_rel).fetch(dj.key, order_by='val_loss', limit=1)[0]\n",
    "model = Fit().load_model(key)"
   ]
  },
  {
   "cell_type": "markdown",
   "metadata": {},
   "source": [
    "# Distribution of non-zero weights for all features"
   ]
  },
  {
   "cell_type": "code",
   "execution_count": null,
   "metadata": {},
   "outputs": [],
   "source": [
    "w = model.base.evaluate(model.readout.feature_weights)\n",
    "ww = w.reshape([-1, num_rotations, num_filters])\n",
    "print(w.shape)"
   ]
  },
  {
   "cell_type": "code",
   "execution_count": null,
   "metadata": {},
   "outputs": [],
   "source": [
    "p = 0.01\n",
    "n = int(np.ceil(np.sqrt(num_filters)))\n",
    "m = int(np.ceil(num_filters / n))\n",
    "frac = []\n",
    "fig, axes = plt.subplots(m, n, figsize=(2*n, m))\n",
    "for i, ax in zip(range(num_filters), axes.flatten()):\n",
    "    wi = w[:,i::num_filters].flatten()\n",
    "    idx = np.abs(wi) > p\n",
    "    frac.append((wi > p).sum() / idx.sum())\n",
    "    sns.distplot(wi[idx], bins=np.linspace(-0.2, 0.2, 40), ax=ax, kde=False)\n",
    "    ax.set_xlim([-0.2, 0.2])\n",
    "    ax.set_ylim([0, 500])\n",
    "    sns.despine(offset=5)\n",
    "    if i < (m-1)*n:\n",
    "        ax.set_xticks([])\n",
    "    if i not in range(0, m*n, n):\n",
    "        ax.set_yticks([])\n",
    "fig.savefig('figures/feature_weights_distr.eps', format='eps')\n",
    "\n",
    "frac = np.array(frac)\n",
    "frac = np.maximum(frac, 1-frac)\n",
    "print(np.sort(frac))"
   ]
  },
  {
   "cell_type": "markdown",
   "metadata": {},
   "source": [
    "# Number of features capturing more than 5% of variance"
   ]
  },
  {
   "cell_type": "code",
   "execution_count": null,
   "metadata": {},
   "outputs": [],
   "source": [
    "p = 0.05\n",
    "w_norm = w / np.sqrt(np.sum(w ** 2, axis=1, keepdims=True))\n",
    "w_marg = w_norm.reshape([-1, num_rotations, num_filters])\n",
    "w_marg = np.sum(w_marg ** 2, axis=1)\n",
    "active = (w_marg > p).sum(axis=1)\n",
    "\n",
    "plt.figure(figsize=(4, 2))\n",
    "sns.distplot(active, bins=np.arange(16)+0.5, kde=False, norm_hist=True)\n",
    "plt.xlabel('Number of feature maps capturing > 5% variance')\n",
    "plt.ylabel('Fraction of cells')\n",
    "plt.xlim([0, 16])\n",
    "plt.xticks(range(0, 17, 2))\n",
    "sns.despine(offset=5)\n",
    "plt.savefig('figures/feature_weights_sparse.eps', format='eps')\n",
    "plt.show()"
   ]
  },
  {
   "cell_type": "markdown",
   "metadata": {},
   "source": [
    "### 'Clean' cells where the major feature captures at least 50% of the variance"
   ]
  },
  {
   "cell_type": "code",
   "execution_count": null,
   "metadata": {},
   "outputs": [],
   "source": [
    "q = 0.5\n",
    "clean = w_marg.max(axis=1) > q\n",
    "clean.mean()"
   ]
  },
  {
   "cell_type": "markdown",
   "metadata": {},
   "source": [
    "# Plot feature weights"
   ]
  },
  {
   "cell_type": "code",
   "execution_count": null,
   "metadata": {},
   "outputs": [],
   "source": [
    "type_id = np.argmax(np.abs(w_marg), axis=1)\n",
    "counts, _ = np.histogram(type_id, range(num_filters+1))\n",
    "n = counts.max()"
   ]
  },
  {
   "cell_type": "markdown",
   "metadata": {},
   "source": [
    "### Unsorted"
   ]
  },
  {
   "cell_type": "code",
   "execution_count": null,
   "metadata": {},
   "outputs": [],
   "source": [
    "per_row = 1000\n",
    "num_cells = type_id.shape[0]\n",
    "num_rows = int(np.ceil(num_cells / per_row))\n",
    "fig, axes = plt.subplots(num_rows, 1, figsize=(30, 2000/per_row*num_rows))\n",
    "for i, ax in enumerate(axes.flatten()):\n",
    "    ax.imshow(1 - w_marg[i*per_row:(i+1)*per_row].T, cmap='gray', aspect=3)\n",
    "    ax.set_xlim((0, per_row))\n",
    "    ax.axis('off')\n",
    "\n",
    "fig.savefig('figures/feature_weights_unsorted.eps', format='eps')"
   ]
  },
  {
   "cell_type": "markdown",
   "metadata": {},
   "source": [
    "### Sorted by weights"
   ]
  },
  {
   "cell_type": "code",
   "execution_count": null,
   "metadata": {},
   "outputs": [],
   "source": [
    "import scipy.misc\n",
    "\n",
    "fig, axes = plt.subplots(num_filters, 1, figsize=(5, 10))\n",
    "for i, ax in zip(range(num_filters), axes.flatten()):\n",
    "    idx = (type_id == i)\n",
    "    wi = w_marg[idx]\n",
    "    order = np.argsort(-wi[:,i])\n",
    "    ax.imshow(1 - wi[order].T, vmin=0, vmax=1, cmap='gray', aspect=3)\n",
    "    ax.set_xticks([])\n",
    "    ax.set_xlim([0, n])\n",
    "    ax.axis('off')\n",
    "    \n",
    "    scipy.misc.toimage(1 - wi[order].T, cmin=0.0, cmax=1).save(\n",
    "        'figures/feature_weights_{:d}.png'.format(i))\n",
    "    \n",
    "fig.savefig('figures/feature_weights.eps', format='eps')"
   ]
  },
  {
   "cell_type": "markdown",
   "metadata": {},
   "source": [
    "# Control model with dense feature weights (L2 regularized)"
   ]
  },
  {
   "cell_type": "code",
   "execution_count": null,
   "metadata": {},
   "outputs": [],
   "source": [
    "num_filters = 16\n",
    "num_rotations = 8\n",
    "data_key = dict(data_hash='cfcd208495d565ef66e7dff9f98764da')\n",
    "model_rel = MODELS['HermiteDenseSeparate'] * MultiDataset() & data_key \\\n",
    "    & 'positive_feature_weights=False AND shared_biases=False' \\\n",
    "    & {'num_filters_2': num_filters}\n",
    "print(len(Fit() * model_rel))\n",
    "key_2 = (Fit() * model_rel).fetch(dj.key, order_by='val_loss', limit=1)[0]\n",
    "model_2 = Fit().load_model(key_2)"
   ]
  },
  {
   "cell_type": "code",
   "execution_count": null,
   "metadata": {},
   "outputs": [],
   "source": [
    "w_2 = model_2.base.evaluate(model_2.readout.feature_weights)\n",
    "ww_2 = w_2.reshape([-1, num_rotations, num_filters])\n",
    "print(w_2.shape)"
   ]
  },
  {
   "cell_type": "code",
   "execution_count": null,
   "metadata": {},
   "outputs": [],
   "source": [
    "p = 0.05\n",
    "w_norm_2 = w_2 / np.sqrt(np.sum(w_2 ** 2, axis=1, keepdims=True))\n",
    "w_marg_2 = w_norm_2.reshape([-1, num_rotations, num_filters])\n",
    "w_marg_2 = np.sum(w_marg_2 ** 2, axis=1)\n",
    "active_2 = (w_marg_2 > p).sum(axis=1)\n",
    "\n",
    "plt.figure(figsize=(4, 2))\n",
    "sns.distplot(active, bins=np.arange(16)+0.5, kde=False, norm_hist=True)\n",
    "sns.distplot(active_2, bins=np.arange(16)+0.5, kde=False, norm_hist=True, color=(0.5, 0.5, 0.5))\n",
    "plt.xlabel('Number of feature maps capturing > 5% variance')\n",
    "plt.ylabel('Fraction of cells')\n",
    "plt.xlim([0, 16])\n",
    "plt.ylim([0, 0.3])\n",
    "plt.xticks(range(0, 17, 2))\n",
    "plt.legend(['L1', 'L2'])\n",
    "sns.despine(offset=5)\n",
    "plt.savefig('figures/feature_weights_sparse.eps', format='eps')\n",
    "plt.show()"
   ]
  },
  {
   "cell_type": "code",
   "execution_count": null,
   "metadata": {},
   "outputs": [],
   "source": [
    "p = 0.003\n",
    "n = int(np.ceil(np.sqrt(num_filters)))\n",
    "m = int(np.ceil(num_filters / n))\n",
    "frac = []\n",
    "fig, axes = plt.subplots(m, n, figsize=(2*n, m))\n",
    "for i, ax in zip(range(num_filters), axes.flatten()):\n",
    "    wi = w_2[:,i::num_filters].flatten()\n",
    "    idx = np.abs(wi) > p\n",
    "    frac.append((wi > p).sum() / idx.sum())\n",
    "    sns.distplot(wi[idx], bins=np.linspace(-0.1, 0.1, 40), ax=ax, kde=False)\n",
    "    ax.set_xlim([-0.1, 0.1])\n",
    "    ax.set_ylim([0, 5000])\n",
    "    sns.despine(offset=5)\n",
    "    if i < (m-1)*n:\n",
    "        ax.set_xticks([])\n",
    "    if i not in range(0, m*n, n):\n",
    "        ax.set_yticks([])\n",
    "fig.savefig('figures/feature_weights_distr.eps', format='eps')\n",
    "\n",
    "frac = np.array(frac)\n",
    "frac = np.maximum(frac, 1-frac)\n",
    "print(np.sort(frac))"
   ]
  },
  {
   "cell_type": "code",
   "execution_count": null,
   "metadata": {},
   "outputs": [],
   "source": []
  }
 ],
 "metadata": {
  "kernelspec": {
   "display_name": "Python 3",
   "language": "python",
   "name": "python3"
  },
  "language_info": {
   "codemirror_mode": {
    "name": "ipython",
    "version": 3
   },
   "file_extension": ".py",
   "mimetype": "text/x-python",
   "name": "python",
   "nbconvert_exporter": "python",
   "pygments_lexer": "ipython3",
   "version": "3.5.2"
  }
 },
 "nbformat": 4,
 "nbformat_minor": 2
}
