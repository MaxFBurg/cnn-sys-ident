{
 "cells": [
  {
   "cell_type": "code",
   "execution_count": null,
   "metadata": {},
   "outputs": [],
   "source": [
    "%load_ext autoreload\n",
    "%autoreload 2\n",
    "%matplotlib inline\n",
    "\n",
    "import datajoint as dj\n",
    "import tensorflow as tf\n",
    "import matplotlib.pyplot as plt\n",
    "import numpy as np\n",
    "\n",
    "import seaborn as sns\n",
    "sns.set_style('ticks', rc={'image.cmap': 'bwr'})\n",
    "\n",
    "import os\n",
    "import sys\n",
    "import inspect\n",
    "\n",
    "p = !pwd\n",
    "p = os.path.dirname(os.path.dirname(p[0]))\n",
    "if p not in sys.path:\n",
    "    sys.path.append(p)"
   ]
  },
  {
   "cell_type": "code",
   "execution_count": null,
   "metadata": {},
   "outputs": [],
   "source": [
    "from cnn_sys_ident.mesonet.data import MultiDataset\n",
    "from cnn_sys_ident.mesonet.parameters import Core, Readout, Model, RegPath, Fit\n",
    "from cnn_sys_ident.mesonet import MODELS\n",
    "from cnn_sys_ident.mesonet.controls import FitTrialSubset"
   ]
  },
  {
   "cell_type": "code",
   "execution_count": null,
   "metadata": {},
   "outputs": [],
   "source": [
    "plt.figure(figsize=(2.5, 2.5))\n",
    "\n",
    "frac_trials = np.array([0.125, 0.25, 0.5, 1])\n",
    "for model in [MODELS['CNNSparse'], MODELS['HermiteSparse']]:\n",
    "    test_corr = []\n",
    "    for t in frac_trials + 0.01:\n",
    "        rel = (FitTrialSubset() * model & 'frac_trials < {}'.format(t))\n",
    "        test_corr.append(rel.fetch('test_corr', order_by='val_loss', limit=1)[0])\n",
    "\n",
    "    plt.semilogx(100 * frac_trials, test_corr, 'o-')\n",
    "    \n",
    "plt.legend(['CNN', 'RotEqui'])\n",
    "plt.xlabel('% of trials')\n",
    "plt.ylabel('Correlation')\n",
    "plt.tight_layout()\n",
    "plt.xlim([10, 110])\n",
    "plt.ylim([0, 0.5])\n",
    "plt.xticks(frac_trials * 100)\n",
    "sns.despine(trim=True, offset=5)\n",
    "plt.savefig('figures/frac_trials.eps', format='eps')"
   ]
  },
  {
   "cell_type": "markdown",
   "metadata": {},
   "source": [
    "# Split the data in half to compute MEIs"
   ]
  },
  {
   "cell_type": "code",
   "execution_count": null,
   "metadata": {},
   "outputs": [],
   "source": [
    "from cnn_sys_ident.mesonet.controls import FitDataSplit, MEIParams, MEIGroup, MEI\n",
    "from cnn_sys_ident.architectures.training import Trainer\n",
    "from cnn_sys_ident.mesonet.data import MultiDataset\n",
    "from cnn_sys_ident.mesonet.parameters import Fit\n",
    "from cnn_sys_ident.mesonet.vis import MEI as OriginalMEI\n",
    "from cnn_sys_ident.mesonet import MODELS"
   ]
  },
  {
   "cell_type": "markdown",
   "metadata": {},
   "source": [
    "### Original MEI, 50/50 and gradient in one plot"
   ]
  },
  {
   "cell_type": "code",
   "execution_count": null,
   "metadata": {},
   "outputs": [],
   "source": [
    "data_key = {'data_hash': 'cfcd208495d565ef66e7dff9f98764da'}\n",
    "dataset = MultiDataset() & data_key\n",
    "num_filters = 16\n",
    "model_rel = MODELS['HermiteSparse'] * dataset \\\n",
    "    & 'positive_feature_weights=False AND shared_biases=False' \\\n",
    "    & {'num_filters_2': num_filters}\n",
    "model_key = (Fit() * model_rel).fetch(dj.key, order_by='val_loss', limit=1)[0]\n",
    "num_rotations = (model_rel & model_key).fetch1('num_rotations')"
   ]
  },
  {
   "cell_type": "code",
   "execution_count": null,
   "metadata": {},
   "outputs": [],
   "source": [
    "from cnn_sys_ident.utils.mei import GradientRF\n",
    "\n",
    "model = Fit().get_model(model_key)\n",
    "tfs = model.base.tf_session\n",
    "graph = tfs.graph\n",
    "checkpoint_file = os.path.join(tfs.log_dir, 'model.ckpt')\n",
    "input_shape = [model.base.data.input_shape[1], model.base.data.input_shape[2]]\n",
    "gradRF = GradientRF(graph, checkpoint_file, input_shape)"
   ]
  },
  {
   "cell_type": "code",
   "execution_count": null,
   "metadata": {},
   "outputs": [],
   "source": [
    "model = Fit().load_model(model_key)\n",
    "masks = model.base.evaluate(model.readout.masks)"
   ]
  },
  {
   "cell_type": "code",
   "execution_count": null,
   "metadata": {},
   "outputs": [],
   "source": [
    "trainer = Trainer(model.base, model)\n",
    "# r = trainer.compute_val_corr()\n",
    "r = trainer.compute_test_corr(average=False)\n",
    "print(r.mean())"
   ]
  },
  {
   "cell_type": "code",
   "execution_count": null,
   "metadata": {},
   "outputs": [],
   "source": [
    "def crop_and_plot_rf(img, mask, k, ax):\n",
    "    img = np.pad(img, k, 'constant')\n",
    "    mask = np.pad(masks[unit_id], k, 'constant')\n",
    "    rf_idx = mask.argmax()\n",
    "    rf_i, rf_j = rf_idx // n_x, rf_idx % n_x\n",
    "    img  = img[rf_i-k:rf_i+k,rf_j-k:rf_j+k]\n",
    "    m = np.abs(img).max() + 1e-3\n",
    "    ax.imshow(img, vmin=-m, vmax=m)\n",
    "    ax.axis('off')    "
   ]
  },
  {
   "cell_type": "code",
   "execution_count": null,
   "metadata": {},
   "outputs": [],
   "source": [
    "unit_ids = np.load('figures/unit_ids.npy')\n",
    "k = 15   # x2\n",
    "n_x = masks.shape[2] + 2*k\n",
    "n = [5, 16]\n",
    "alternative_model_key = model_key.copy()\n",
    "alternative_model_key['reg_seed'] = 1954773306\n",
    "for i, unit_ids_i in enumerate(unit_ids):\n",
    "    fig, axes = plt.subplots(n[0], n[1], figsize=(n[1], n[0]))\n",
    "    for j, unit_id in enumerate(unit_ids_i):\n",
    "        # Gradient RF\n",
    "        img = gradRF.gradient(unit_id)\n",
    "        crop_and_plot_rf(img, masks[unit_id], k, axes[0,j])\n",
    "        \n",
    "        # Full MEI alternative model\n",
    "        key = dict(unit_id=unit_id, param_id=1)\n",
    "        img = (OriginalMEI() & key & alternative_model_key).fetch1('max_image')\n",
    "        crop_and_plot_rf(img, masks[unit_id], k, axes[1,j])\n",
    "        \n",
    "        # Full MEI\n",
    "        key = dict(unit_id=unit_id, param_id=1)\n",
    "        img = (OriginalMEI() & key & model_key).fetch1('max_image')\n",
    "        crop_and_plot_rf(img, masks[unit_id], k, axes[2,j])\n",
    "        \n",
    "        # 50/50 data splits\n",
    "        for split_num in range(2):\n",
    "            key = dict(unit_id=unit_id,\n",
    "                       num_splits=2,\n",
    "                       split_num=split_num,\n",
    "                       param_id=1)\n",
    "            rel = MEI() & key\n",
    "            if len(rel):# and r[unit_id] > 0.55:\n",
    "                img = rel.fetch1('max_image')\n",
    "                crop_and_plot_rf(img, masks[unit_id], k, axes[3+split_num,j])\n",
    "\n",
    "    fig.savefig('figures/meis_alt_grad_split_{:d}.eps'.format(i+1), format='eps')"
   ]
  }
 ],
 "metadata": {
  "kernelspec": {
   "display_name": "Python 3",
   "language": "python",
   "name": "python3"
  },
  "language_info": {
   "codemirror_mode": {
    "name": "ipython",
    "version": 3
   },
   "file_extension": ".py",
   "mimetype": "text/x-python",
   "name": "python",
   "nbconvert_exporter": "python",
   "pygments_lexer": "ipython3",
   "version": "3.6.3"
  }
 },
 "nbformat": 4,
 "nbformat_minor": 2
}
