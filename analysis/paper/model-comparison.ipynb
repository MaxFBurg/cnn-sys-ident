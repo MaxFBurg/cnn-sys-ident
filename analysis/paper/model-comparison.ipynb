{
 "cells": [
  {
   "cell_type": "code",
   "execution_count": null,
   "metadata": {},
   "outputs": [],
   "source": [
    "%load_ext autoreload\n",
    "%autoreload 2\n",
    "%matplotlib inline\n",
    "\n",
    "import datajoint as dj\n",
    "import tensorflow as tf\n",
    "import matplotlib.pyplot as plt\n",
    "import numpy as np\n",
    "\n",
    "import seaborn as sns\n",
    "sns.set_style('ticks', rc={'image.cmap': 'bwr'})\n",
    "\n",
    "import os\n",
    "import sys\n",
    "import inspect\n",
    "\n",
    "p = !pwd\n",
    "p = os.path.dirname(os.path.dirname(p[0]))\n",
    "if p not in sys.path:\n",
    "    sys.path.append(p)"
   ]
  },
  {
   "cell_type": "code",
   "execution_count": null,
   "metadata": {},
   "outputs": [],
   "source": [
    "from cnn_sys_ident.mesonet.data import MultiDataset\n",
    "from cnn_sys_ident.mesonet.parameters import Core, Readout, Model, RegPath, Fit\n",
    "from cnn_sys_ident.mesonet import MODELS"
   ]
  },
  {
   "cell_type": "code",
   "execution_count": null,
   "metadata": {},
   "outputs": [],
   "source": [
    "data_key = {'data_hash': 'cfcd208495d565ef66e7dff9f98764da'}"
   ]
  },
  {
   "cell_type": "markdown",
   "metadata": {},
   "source": [
    "# Model comparison: arbitrary feature weights"
   ]
  },
  {
   "cell_type": "code",
   "execution_count": null,
   "metadata": {},
   "outputs": [],
   "source": [
    "model_rel = MODELS['HermiteSparse'] \\\n",
    "    & 'positive_feature_weights=False AND shared_biases=False'"
   ]
  },
  {
   "cell_type": "code",
   "execution_count": null,
   "metadata": {},
   "outputs": [],
   "source": [
    "def get_stats(model_rel, num_filters=None):\n",
    "    if num_filters is None:\n",
    "        num_filters = [8, 12, 16, 20, 24, 28, 32, 40, 48]\n",
    "    test_corr, val_loss, num_filt = [], [], []\n",
    "    for n in num_filters:\n",
    "        filters_key = {'num_filters_2': n}\n",
    "        rel = Fit() * model_rel & data_key & filters_key\n",
    "        if len(rel):\n",
    "            l, r = rel.fetch('val_loss', 'test_corr', order_by='val_loss', limit=5)\n",
    "            val_loss.append(l)\n",
    "            test_corr.append(r)\n",
    "            num_filt.append(n)\n",
    "            print('{}: {} (SD: {:.2f}), {} (SD: {:.4f})'.format(n, l, l.std(), r, r.std()))\n",
    "\n",
    "    val_loss = np.array(val_loss)\n",
    "    test_corr = np.array(test_corr)\n",
    "    num_filt = np.array(num_filt)\n",
    "    return val_loss, test_corr, num_filt"
   ]
  },
  {
   "cell_type": "code",
   "execution_count": null,
   "metadata": {},
   "outputs": [],
   "source": [
    "val_loss, test_corr, num_filt = get_stats(model_rel)"
   ]
  },
  {
   "cell_type": "code",
   "execution_count": null,
   "metadata": {},
   "outputs": [],
   "source": [
    "plt.figure(figsize=(4, 3))\n",
    "plt.plot(num_filt, test_corr, '.k', ms=5)\n",
    "plt.plot(num_filt, test_corr[:,0], 'o-k')\n",
    "plt.plot(16, test_corr[num_filt==16,0], 'or', ms=10)\n",
    "plt.ylim([0.4, 0.5])\n",
    "plt.xlim([num_filt[0]-1, num_filt[-1]+1])\n",
    "plt.xticks(num_filt[[0, 2, 4, 6, 7, 8]])\n",
    "plt.xlabel('Number of feature maps')\n",
    "plt.ylabel('Correlation on test set')\n",
    "sns.despine(trim=True, offset=5)\n",
    "plt.show()\n",
    "\n",
    "plt.figure(figsize=(4, 3))\n",
    "plt.plot(num_filt, val_loss, '.k', ms=5)\n",
    "plt.plot(num_filt, val_loss[:,0], 'ok')\n",
    "plt.plot(16, val_loss[num_filt==16,0], 'or', ms=10)\n",
    "plt.ylim([3600, 3700])\n",
    "plt.xlim([num_filt[0]-1, num_filt[-1]+1])\n",
    "plt.xticks(num_filt[[0, 2, 4, 6, 7, 8]])\n",
    "plt.xlabel('Number of feature maps')\n",
    "plt.ylabel('Loss on validation set')\n",
    "sns.despine(trim=True, offset=5)\n",
    "plt.savefig('figures/model_comp.eps', format='eps')\n",
    "plt.show()"
   ]
  },
  {
   "cell_type": "code",
   "execution_count": null,
   "metadata": {},
   "outputs": [],
   "source": [
    "print(test_corr.std(axis=1))"
   ]
  },
  {
   "cell_type": "code",
   "execution_count": null,
   "metadata": {},
   "outputs": [],
   "source": [
    "sd = (val_loss[3].min() - val_loss[-1].min()) / val_loss[-1].std()\n",
    "print('SDs from best validation loss: {:.2f}'.format(sd))"
   ]
  },
  {
   "cell_type": "markdown",
   "metadata": {},
   "source": [
    "### Disrtribution of correlations across neurons"
   ]
  },
  {
   "cell_type": "code",
   "execution_count": null,
   "metadata": {},
   "outputs": [],
   "source": [
    "import scipy.stats\n",
    "model_rel = MODELS['HermiteSparse'] \\\n",
    "    & 'positive_feature_weights=False AND shared_biases=False AND num_filters_2=16'"
   ]
  },
  {
   "cell_type": "code",
   "execution_count": null,
   "metadata": {},
   "outputs": [],
   "source": [
    "key = (Fit() * model_rel).fetch(dj.key, order_by='val_loss')[1]\n",
    "model = Fit().load_model(key)"
   ]
  },
  {
   "cell_type": "code",
   "execution_count": null,
   "metadata": {},
   "outputs": [],
   "source": [
    "data = model.base.data\n",
    "inputs, responses = data.test()\n",
    "feed_dict = {model.base.inputs: inputs, model.base.is_training: False}\n",
    "predictions = model.base.evaluate(model.predictions, feed_dict=feed_dict)"
   ]
  },
  {
   "cell_type": "code",
   "execution_count": null,
   "metadata": {},
   "outputs": [],
   "source": [
    "rho = [scipy.stats.pearsonr(p, r)[0] for p, r in zip(predictions.T, responses.T)]"
   ]
  },
  {
   "cell_type": "code",
   "execution_count": null,
   "metadata": {},
   "outputs": [],
   "source": [
    "plt.figure(figsize=(3, 2))\n",
    "sns.distplot(rho, bins=np.linspace(-0.2, 1, 50), kde=False)\n",
    "plt.xlabel('Test correlation')\n",
    "plt.ylabel('Number of neurons')\n",
    "plt.xlim([-0.2, 1])\n",
    "plt.ylim([0, 400])\n",
    "sns.despine(offset=5)\n",
    "plt.tight_layout()\n",
    "plt.savefig('figures/test_correlations_distr.eps', format='eps')"
   ]
  },
  {
   "cell_type": "markdown",
   "metadata": {},
   "source": [
    "# Control: positive feature weights"
   ]
  },
  {
   "cell_type": "code",
   "execution_count": null,
   "metadata": {},
   "outputs": [],
   "source": [
    "model_rel_p = MODELS['HermiteSparse'] \\\n",
    "    & 'positive_feature_weights=True AND shared_biases=False'\n",
    "val_loss_p, test_corr_p, num_filt_p = get_stats(model_rel_p)"
   ]
  },
  {
   "cell_type": "code",
   "execution_count": null,
   "metadata": {},
   "outputs": [],
   "source": [
    "plt.figure(figsize=(4, 3))\n",
    "plt.plot(num_filt, test_corr, '.k', ms=5)\n",
    "plt.plot(num_filt, test_corr[:,0], 'o-k')\n",
    "plt.plot(num_filt_p, test_corr_p[:,0], 'o-g')\n",
    "plt.plot(num_filt_p, test_corr_p[:,:3], '.g', ms=5)\n",
    "plt.plot(16, test_corr[num_filt==16,0], 'or', ms=10)\n",
    "plt.ylim([0.4, 0.5])\n",
    "plt.xlim([num_filt[0]-1, num_filt[-1]+1])\n",
    "plt.xticks(num_filt[[0, 2, 4, 5, 6, 7]])\n",
    "plt.xlabel('Number of feature maps')\n",
    "plt.ylabel('Correlation on test set')\n",
    "sns.despine(trim=True, offset=5)\n",
    "plt.show()\n",
    "\n",
    "plt.figure(figsize=(4, 3))\n",
    "plt.plot(num_filt, val_loss, '.k', ms=5)\n",
    "plt.plot(num_filt, val_loss[:,0], 'ok')\n",
    "plt.plot(num_filt_p, val_loss_p[:,0], 'og')\n",
    "plt.plot(num_filt_p, val_loss_p[:,:3], '.g', ms=5)\n",
    "plt.plot(16, val_loss[num_filt==16,0], 'or', ms=10)\n",
    "plt.ylim([3600, 3800])\n",
    "plt.xlim([num_filt[0]-1, num_filt[-1]+1])\n",
    "plt.xticks(num_filt[[0, 2, 4, 6, 7, 8]])\n",
    "plt.xlabel('Number of feature maps')\n",
    "plt.ylabel('Loss on validation set')\n",
    "sns.despine(trim=True, offset=5)\n",
    "plt.show()"
   ]
  },
  {
   "cell_type": "markdown",
   "metadata": {},
   "source": [
    "# Control: shared biases"
   ]
  },
  {
   "cell_type": "code",
   "execution_count": null,
   "metadata": {},
   "outputs": [],
   "source": [
    "model_rel_b = MODELS['HermiteSparse'] \\\n",
    "    & 'positive_feature_weights=False AND shared_biases=True'\n",
    "val_loss_b, test_corr_b, num_filt_b = get_stats(model_rel_b, num_filters=[16, 32, 48])"
   ]
  },
  {
   "cell_type": "code",
   "execution_count": null,
   "metadata": {},
   "outputs": [],
   "source": [
    "plt.figure(figsize=(4, 3))\n",
    "plt.plot(num_filt, test_corr, '.k', ms=5)\n",
    "plt.plot(num_filt, test_corr[:,0], 'o-k')\n",
    "plt.plot(num_filt_b, test_corr_b[:,0], 'o-b')\n",
    "plt.plot(num_filt_b, test_corr_b[:,:3], '.b', ms=5)\n",
    "plt.plot(16, test_corr[num_filt==16,0], 'or', ms=10)\n",
    "plt.ylim([0.4, 0.5])\n",
    "plt.xlim([num_filt[0]-1, num_filt[-1]+1])\n",
    "plt.xticks(num_filt[[0, 2, 4, 5, 6, 7]])\n",
    "plt.xlabel('Number of feature maps')\n",
    "plt.ylabel('Correlation on test set')\n",
    "sns.despine(trim=True, offset=5)\n",
    "plt.show()\n",
    "\n",
    "plt.figure(figsize=(4, 3))\n",
    "plt.plot(num_filt, val_loss, '.k', ms=5)\n",
    "plt.plot(num_filt, val_loss[:,0], 'ok')\n",
    "plt.plot(num_filt_b, val_loss_b[:,0], 'o-b')\n",
    "plt.plot(num_filt_b, val_loss_b[:,:3], '.b', ms=5)\n",
    "plt.plot(16, val_loss[num_filt==16,0], 'or', ms=10)\n",
    "plt.ylim([3600, 3700])\n",
    "plt.xlim([num_filt[0]-1, num_filt[-1]+1])\n",
    "plt.xticks(num_filt[[0, 2, 4, 6, 7, 8]])\n",
    "plt.xlabel('Number of feature maps')\n",
    "plt.ylabel('Loss on validation set')\n",
    "sns.despine(trim=True, offset=5)\n",
    "plt.show()"
   ]
  },
  {
   "cell_type": "code",
   "execution_count": null,
   "metadata": {},
   "outputs": [],
   "source": []
  }
 ],
 "metadata": {
  "kernelspec": {
   "display_name": "Python 3",
   "language": "python",
   "name": "python3"
  },
  "language_info": {
   "codemirror_mode": {
    "name": "ipython",
    "version": 3
   },
   "file_extension": ".py",
   "mimetype": "text/x-python",
   "name": "python",
   "nbconvert_exporter": "python",
   "pygments_lexer": "ipython3",
   "version": "3.5.2"
  }
 },
 "nbformat": 4,
 "nbformat_minor": 2
}
