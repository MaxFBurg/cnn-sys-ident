{
 "cells": [
  {
   "cell_type": "code",
   "execution_count": null,
   "metadata": {},
   "outputs": [],
   "source": [
    "%load_ext autoreload\n",
    "%autoreload 2\n",
    "%matplotlib inline\n",
    "import tensorflow as tf, numpy as np, os, sys\n",
    "p = !pwd\n",
    "p = os.path.dirname(os.path.dirname(p[0]))\n",
    "if p not in sys.path:\n",
    "    sys.path.append(p)"
   ]
  },
  {
   "cell_type": "code",
   "execution_count": null,
   "metadata": {},
   "outputs": [],
   "source": [
    "# TODO: adjust imports\n",
    "\n",
    "from cnn_sys_ident.architectures.models import BaseModel, CorePlusReadoutModel\n",
    "from cnn_sys_ident.architectures.cores import StackedRotEquiHermiteConv2dCore\n",
    "from cnn_sys_ident.architectures.readouts import SpatialXFeatureJointL1Readout\n",
    "from cnn_sys_ident.architectures.training import Trainer\n",
    "from data import Dataset"
   ]
  },
  {
   "cell_type": "markdown",
   "metadata": {},
   "source": [
    "# Parameters"
   ]
  },
  {
   "cell_type": "code",
   "execution_count": null,
   "metadata": {},
   "outputs": [],
   "source": [
    "# Training\n",
    "VAL_STEPS = 50\n",
    "LEARNING_RATE = 0.002\n",
    "BATCH_SIZE = 256\n",
    "PATIENCE = 5\n",
    "LR_DECAY_STEPS = 2"
   ]
  },
  {
   "cell_type": "markdown",
   "metadata": {},
   "source": [
    "# Linear model processing movies"
   ]
  },
  {
   "cell_type": "code",
   "execution_count": null,
   "metadata": {},
   "outputs": [],
   "source": [
    "data = MultiDataset() # TODO: data loading\n",
    "base = BaseModel(\n",
    "    data,\n",
    "    log_hash='testing'   # If you omit this, it will generate a new, random hash every time\n",
    ")\n",
    "core = MultiScanCore(\n",
    "    base,\n",
    "    base.inputs,\n",
    "    core_type=StackedFactorizedConv3dCore,\n",
    "    filter_size_spatial=[30],   # probably too large -- otherwise downsample movies\n",
    "    filter_size_temporal=[20],\n",
    "    num_filters=[4],\n",
    "    activation_fn=None,\n",
    ")\n",
    "readout = MultiScanReadout(\n",
    "    base,\n",
    "    core.output,\n",
    "    readout_type=SpatialXFeature3dL1Readout,\n",
    "    mask_sparsity=0.01,     # TO DO: find good value\n",
    "    feature_sparsity=0.001, # TO DO: find good value\n",
    "    positive_feature_weights=False,\n",
    ")\n",
    "model = CorePlusReadoutModel(base, core, readout)\n",
    "model.load()\n",
    "trainer = Trainer(base, model)\n",
    "iter_num, val_loss, test_corr = trainer.fit(\n",
    "    val_steps=VAL_STEPS,\n",
    "    learning_rate=LEARNING_RATE,\n",
    "    batch_size=BATCH_SIZE,\n",
    "    patience=PATIENCE,\n",
    "    lr_decay_steps=LR_DECAY_STEPS)\n",
    "\n",
    "trainer.compute_test_corr()      #   (for training, see below)"
   ]
  },
  {
   "cell_type": "code",
   "execution_count": null,
   "metadata": {},
   "outputs": [],
   "source": []
  }
 ],
 "metadata": {
  "kernelspec": {
   "display_name": "Python 3",
   "language": "python",
   "name": "python3"
  },
  "language_info": {
   "codemirror_mode": {
    "name": "ipython",
    "version": 3
   },
   "file_extension": ".py",
   "mimetype": "text/x-python",
   "name": "python",
   "nbconvert_exporter": "python",
   "pygments_lexer": "ipython3",
   "version": "3.6.3"
  }
 },
 "nbformat": 4,
 "nbformat_minor": 2
}
