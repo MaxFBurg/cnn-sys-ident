{
 "cells": [
  {
   "cell_type": "code",
   "execution_count": null,
   "metadata": {},
   "outputs": [],
   "source": [
    "%load_ext autoreload\n",
    "%autoreload 2\n",
    "%matplotlib inline\n",
    "import tensorflow as tf, numpy as np, os, sys\n",
    "p = !pwd\n",
    "p = os.path.dirname(os.path.dirname(p[0]))\n",
    "if p not in sys.path:\n",
    "    sys.path.append(p)"
   ]
  },
  {
   "cell_type": "code",
   "execution_count": null,
   "metadata": {},
   "outputs": [],
   "source": [
    "from matplotlib import pyplot as plt\n",
    "%matplotlib inline"
   ]
  },
  {
   "cell_type": "code",
   "execution_count": null,
   "metadata": {},
   "outputs": [],
   "source": [
    "from cnn_sys_ident.architectures.models import BaseModel3D, CorePlusReadoutModel\n",
    "from cnn_sys_ident.architectures.cores import MultiScanCore, StackedFactorizedConv3dCore\n",
    "from cnn_sys_ident.architectures.readouts import MultiScanReadout, SpatialXFeature3dJointL1Readout\n",
    "from cnn_sys_ident.architectures.training import Trainer\n",
    "from cnn_sys_ident.retina.data import Dataset\n",
    "from cnn_sys_ident.retina.read_data import MultiDatasetWrapper\n",
    "from cnn_sys_ident.architectures.utils import mean_sq_err, poisson"
   ]
  },
  {
   "cell_type": "markdown",
   "metadata": {},
   "source": [
    "# Parameters"
   ]
  },
  {
   "cell_type": "code",
   "execution_count": null,
   "metadata": {},
   "outputs": [],
   "source": [
    "# Training\n",
    "VAL_STEPS = 50\n",
    "LEARNING_RATE = 0.001\n",
    "BATCH_SIZE = 128\n",
    "PATIENCE = 5\n",
    "LR_DECAY_STEPS = 2"
   ]
  },
  {
   "cell_type": "markdown",
   "metadata": {},
   "source": [
    "# Linear model processing movies"
   ]
  },
  {
   "cell_type": "code",
   "execution_count": null,
   "metadata": {},
   "outputs": [],
   "source": [
    "md_wrapper = MultiDatasetWrapper(experimenter=\"Franke\",\n",
    "                                 date=\"2018-10-19\",\n",
    "                                 exp_num=1,\n",
    "                                 stim_path='/gpfs01/berens/user/cbehrens/RGC_DNN/Stimuli/MouseCam2/')\n",
    "md_wrapper.generate_dataset(filter_traces=True, quality_threshold = 0.5)\n",
    "data = md_wrapper.multi_dataset # TODO: data loading\n",
    "base = BaseModel3D(\n",
    "    data,\n",
    "    log_hash='testing'   # If you omit this, it will generate a new, random hash every time\n",
    ")\n",
    "core = MultiScanCore(\n",
    "    base,\n",
    "    base.data,\n",
    "    base.inputs,\n",
    "    core_type=StackedFactorizedConv3dCore,\n",
    "    filter_size_spatial=[15],   # probably too large -- otherwise downsample movies\n",
    "    filter_size_temporal=[20],\n",
    "    num_filters=[8],\n",
    "    activation_fn=['none'],\n",
    "    conv_smooth_weight_spatial=0.005,\n",
    "    conv_smooth_weight_temporal=0.005\n",
    ")\n",
    "readout = MultiScanReadout(\n",
    "    base,\n",
    "    base.data,\n",
    "    core.output,\n",
    "    readout_type=SpatialXFeature3dJointL1Readout,\n",
    "    mask_sparsity=0.03,     # TO DO: find good value\n",
    "    feature_sparsity=0.001, # TO DO: find good value\n",
    "    positive_feature_weights=True,\n",
    "    nonlinearity=True\n",
    ")\n",
    "model = CorePlusReadoutModel(base, core, readout)\n",
    "# model.load()\n",
    "trainer = Trainer(base, model, error_fn=poisson)\n",
    "iter_num, val_loss, test_corr = trainer.fit(\n",
    "    val_steps=VAL_STEPS,\n",
    "    learning_rate=LEARNING_RATE,\n",
    "    batch_size=BATCH_SIZE,\n",
    "    patience=PATIENCE,\n",
    "    lr_decay_steps=LR_DECAY_STEPS)\n",
    "\n",
    "trainer.compute_test_corr()      #   (for training, see below)"
   ]
  }
 ],
 "metadata": {
  "kernelspec": {
   "display_name": "Python 3",
   "language": "python",
   "name": "python3"
  },
  "language_info": {
   "codemirror_mode": {
    "name": "ipython",
    "version": 3
   },
   "file_extension": ".py",
   "mimetype": "text/x-python",
   "name": "python",
   "nbconvert_exporter": "python",
   "pygments_lexer": "ipython3",
   "version": "3.6.7"
  },
  "varInspector": {
   "cols": {
    "lenName": 16,
    "lenType": 16,
    "lenVar": 40
   },
   "kernels_config": {
    "python": {
     "delete_cmd_postfix": "",
     "delete_cmd_prefix": "del ",
     "library": "var_list.py",
     "varRefreshCmd": "print(var_dic_list())"
    },
    "r": {
     "delete_cmd_postfix": ") ",
     "delete_cmd_prefix": "rm(",
     "library": "var_list.r",
     "varRefreshCmd": "cat(var_dic_list()) "
    }
   },
   "types_to_exclude": [
    "module",
    "function",
    "builtin_function_or_method",
    "instance",
    "_Feature"
   ],
   "window_display": false
  }
 },
 "nbformat": 4,
 "nbformat_minor": 2
}
