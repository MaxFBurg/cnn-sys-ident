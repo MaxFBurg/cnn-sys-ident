{
 "cells": [
  {
   "cell_type": "code",
   "execution_count": 3,
   "metadata": {},
   "outputs": [
    {
     "name": "stderr",
     "output_type": "stream",
     "text": [
      "/usr/local/lib/python3.5/dist-packages/h5py/__init__.py:36: FutureWarning: Conversion of the second argument of issubdtype from `float` to `np.floating` is deprecated. In future, it will be treated as `np.float64 == np.dtype(float).type`.\n",
      "  from ._conv import register_converters as _register_converters\n"
     ]
    }
   ],
   "source": [
    "%load_ext autoreload\n",
    "%autoreload 2\n",
    "%matplotlib inline\n",
    "\n",
    "import datajoint as dj\n",
    "import tensorflow as tf\n",
    "import matplotlib.pyplot as plt\n",
    "import numpy as np\n",
    "\n",
    "import seaborn as sns\n",
    "sns.set_style('ticks')\n",
    "\n",
    "import os\n",
    "import sys\n",
    "import inspect\n",
    "\n",
    "p = !pwd\n",
    "p = os.path.dirname(os.path.dirname(p[0]))\n",
    "if p not in sys.path:\n",
    "    sys.path.append(p)"
   ]
  },
  {
   "cell_type": "code",
   "execution_count": 4,
   "metadata": {},
   "outputs": [
    {
     "name": "stdout",
     "output_type": "stream",
     "text": [
      "Connecting aecker@52.202.15.166:3306\n"
     ]
    }
   ],
   "source": [
    "from cnn_sys_ident.mesonet.parameters import Fit, Model, Core, Readout, RegPath\n",
    "from cnn_sys_ident.mesonet.data import MultiDataset\n",
    "from cnn_sys_ident.mesonet import MODELS"
   ]
  },
  {
   "cell_type": "markdown",
   "metadata": {},
   "source": [
    "# Main model"
   ]
  },
  {
   "cell_type": "code",
   "execution_count": 5,
   "metadata": {},
   "outputs": [],
   "source": [
    "num_filters = 16\n",
    "data_key = dict(data_hash='cfcd208495d565ef66e7dff9f98764da')"
   ]
  },
  {
   "cell_type": "code",
   "execution_count": 7,
   "metadata": {},
   "outputs": [
    {
     "name": "stdout",
     "output_type": "stream",
     "text": [
      "30\n",
      "Loss: 3635.8, avg corr: 0.472 +/- 0.0053\n"
     ]
    }
   ],
   "source": [
    "model_rel = MODELS['HermiteSparse'] * MultiDataset() & data_key \\\n",
    "    & 'positive_feature_weights=False AND shared_biases=False' \\\n",
    "    & {'num_filters_2': num_filters}\n",
    "print(len(Fit() * model_rel))\n",
    "val_loss, test_corr = (Fit() * model_rel).fetch(\n",
    "    'val_loss', 'test_corr', order_by='val_loss', limit=5)\n",
    "print('Loss: {:.1f}, avg corr: {:.3f} +/- {:.4f}'.format(val_loss[0], test_corr[0], test_corr.std()))"
   ]
  },
  {
   "cell_type": "markdown",
   "metadata": {},
   "source": [
    "# Control: dense feature weights"
   ]
  },
  {
   "cell_type": "code",
   "execution_count": 8,
   "metadata": {},
   "outputs": [
    {
     "name": "stdout",
     "output_type": "stream",
     "text": [
      "32\n",
      "Loss: 3863.2, avg corr: 0.271 +/- 0.0107\n"
     ]
    }
   ],
   "source": [
    "model_rel = MODELS['HermiteDense'] * MultiDataset() & data_key \\\n",
    "    & 'positive_feature_weights=False AND shared_biases=False' \\\n",
    "    & {'num_filters_2': num_filters}\n",
    "print(len(Fit() * model_rel))\n",
    "val_loss, test_corr = (Fit() * model_rel).fetch(\n",
    "    'val_loss', 'test_corr', order_by='val_loss', limit=5)\n",
    "print('Loss: {:.1f}, avg corr: {:.3f} +/- {:.4f}'.format(val_loss[0], test_corr[0], test_corr.std()))"
   ]
  },
  {
   "cell_type": "markdown",
   "metadata": {},
   "source": [
    "# Control: positive feature weights"
   ]
  },
  {
   "cell_type": "code",
   "execution_count": 9,
   "metadata": {},
   "outputs": [
    {
     "name": "stdout",
     "output_type": "stream",
     "text": [
      "32\n",
      "Loss: 3686.5, avg corr: 0.429 +/- 0.0064\n"
     ]
    }
   ],
   "source": [
    "model_rel = MODELS['HermiteSparse'] * MultiDataset() & data_key \\\n",
    "    & 'positive_feature_weights=True AND shared_biases=False' \\\n",
    "    & {'num_filters_2': num_filters}\n",
    "print(len(Fit() * model_rel))\n",
    "val_loss, test_corr = (Fit() * model_rel).fetch(\n",
    "    'val_loss', 'test_corr', order_by='val_loss', limit=5)\n",
    "print('Loss: {:.1f}, avg corr: {:.3f} +/- {:.4f}'.format(val_loss[0], test_corr[0], test_corr.std()))"
   ]
  },
  {
   "cell_type": "markdown",
   "metadata": {},
   "source": [
    "# Baseline: regular CNNs"
   ]
  },
  {
   "cell_type": "code",
   "execution_count": 12,
   "metadata": {},
   "outputs": [
    {
     "name": "stdout",
     "output_type": "stream",
     "text": [
      "32\n",
      "Features: [32, 32, 32], Loss: 3745.6, Avg. corr: 0.394 +/- 0.0089\n",
      "32\n",
      "Features: [64, 64, 64], Loss: 3736.2, Avg. corr: 0.394 +/- 0.0056\n",
      "32\n",
      "Features: [128, 128, 128], Loss: 3717.1, Avg. corr: 0.418 +/- 0.0082\n",
      "32\n",
      "Features: [128, 128, 256], Loss: 3722.9, Avg. corr: 0.415 +/- 0.0091\n"
     ]
    }
   ],
   "source": [
    "cnn_filter_nums = [\n",
    "    [32, 32, 32],\n",
    "    [64, 64, 64],\n",
    "    [128, 128, 128],\n",
    "    [128, 128, 256],\n",
    "]\n",
    "for n in cnn_filter_nums:\n",
    "    key = {'num_filters_{:d}'.format(i): n[i] for i in range(len(n))}\n",
    "    model_rel = MODELS['CNNSparse'] * MultiDataset() & data_key \\\n",
    "        & 'positive_feature_weights=False'\n",
    "    print(len(Fit() * model_rel & key))\n",
    "    val_loss, test_corr = (Fit() * model_rel & key).fetch(\n",
    "        'val_loss', 'test_corr', order_by='val_loss', limit=5)\n",
    "    print('Features: {}, Loss: {:.1f}, Avg. corr: {:.3f} +/- {:.4f}'.format(\n",
    "        n, val_loss[0], test_corr[0], test_corr.std()))"
   ]
  },
  {
   "cell_type": "code",
   "execution_count": null,
   "metadata": {},
   "outputs": [],
   "source": []
  }
 ],
 "metadata": {
  "kernelspec": {
   "display_name": "Python 3",
   "language": "python",
   "name": "python3"
  },
  "language_info": {
   "codemirror_mode": {
    "name": "ipython",
    "version": 3
   },
   "file_extension": ".py",
   "mimetype": "text/x-python",
   "name": "python",
   "nbconvert_exporter": "python",
   "pygments_lexer": "ipython3",
   "version": "3.5.2"
  }
 },
 "nbformat": 4,
 "nbformat_minor": 2
}
